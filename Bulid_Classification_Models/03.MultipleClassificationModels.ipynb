{
 "cells": [
  {
   "cell_type": "markdown",
   "metadata": {},
   "source": [
    "# Multiple Classification models\n",
    "\n",
    "In this Notebook we will defines Helper function to help us to build Classification Models and Compare them "
   ]
  },
  {
   "cell_type": "code",
   "execution_count": 1,
   "metadata": {},
   "outputs": [],
   "source": [
    "import pandas as pd \n",
    "import numpy as np\n",
    "\n",
    "from sklearn.model_selection import train_test_split\n",
    "from sklearn.metrics import accuracy_score, precision_score, recall_score\n",
    "\n",
    "from sklearn.linear_model import LogisticRegression\n",
    "from sklearn.svm import SVC\n",
    "from sklearn.tree import DecisionTreeClassifier\n",
    "from sklearn.ensemble import RandomForestClassifier\n",
    "from sklearn.naive_bayes import GaussianNB\n",
    "\n"
   ]
  },
  {
   "cell_type": "code",
   "execution_count": 2,
   "metadata": {},
   "outputs": [
    {
     "data": {
      "text/html": [
       "<div>\n",
       "<style scoped>\n",
       "    .dataframe tbody tr th:only-of-type {\n",
       "        vertical-align: middle;\n",
       "    }\n",
       "\n",
       "    .dataframe tbody tr th {\n",
       "        vertical-align: top;\n",
       "    }\n",
       "\n",
       "    .dataframe thead th {\n",
       "        text-align: right;\n",
       "    }\n",
       "</style>\n",
       "<table border=\"1\" class=\"dataframe\">\n",
       "  <thead>\n",
       "    <tr style=\"text-align: right;\">\n",
       "      <th></th>\n",
       "      <th>Survived</th>\n",
       "      <th>Pclass</th>\n",
       "      <th>Sex</th>\n",
       "      <th>Age</th>\n",
       "      <th>SibSp</th>\n",
       "      <th>Parch</th>\n",
       "      <th>Fare</th>\n",
       "      <th>Embarked_C</th>\n",
       "      <th>Embarked_Q</th>\n",
       "      <th>Embarked_S</th>\n",
       "    </tr>\n",
       "  </thead>\n",
       "  <tbody>\n",
       "    <tr>\n",
       "      <th>0</th>\n",
       "      <td>1</td>\n",
       "      <td>2</td>\n",
       "      <td>0</td>\n",
       "      <td>17.0</td>\n",
       "      <td>0</td>\n",
       "      <td>0</td>\n",
       "      <td>12.0000</td>\n",
       "      <td>True</td>\n",
       "      <td>False</td>\n",
       "      <td>False</td>\n",
       "    </tr>\n",
       "    <tr>\n",
       "      <th>1</th>\n",
       "      <td>0</td>\n",
       "      <td>1</td>\n",
       "      <td>1</td>\n",
       "      <td>36.0</td>\n",
       "      <td>1</td>\n",
       "      <td>0</td>\n",
       "      <td>78.8500</td>\n",
       "      <td>False</td>\n",
       "      <td>False</td>\n",
       "      <td>True</td>\n",
       "    </tr>\n",
       "    <tr>\n",
       "      <th>2</th>\n",
       "      <td>0</td>\n",
       "      <td>3</td>\n",
       "      <td>0</td>\n",
       "      <td>14.5</td>\n",
       "      <td>1</td>\n",
       "      <td>0</td>\n",
       "      <td>14.4542</td>\n",
       "      <td>True</td>\n",
       "      <td>False</td>\n",
       "      <td>False</td>\n",
       "    </tr>\n",
       "    <tr>\n",
       "      <th>3</th>\n",
       "      <td>1</td>\n",
       "      <td>2</td>\n",
       "      <td>0</td>\n",
       "      <td>42.0</td>\n",
       "      <td>0</td>\n",
       "      <td>0</td>\n",
       "      <td>13.0000</td>\n",
       "      <td>False</td>\n",
       "      <td>False</td>\n",
       "      <td>True</td>\n",
       "    </tr>\n",
       "    <tr>\n",
       "      <th>4</th>\n",
       "      <td>1</td>\n",
       "      <td>2</td>\n",
       "      <td>0</td>\n",
       "      <td>41.0</td>\n",
       "      <td>0</td>\n",
       "      <td>1</td>\n",
       "      <td>19.5000</td>\n",
       "      <td>False</td>\n",
       "      <td>False</td>\n",
       "      <td>True</td>\n",
       "    </tr>\n",
       "  </tbody>\n",
       "</table>\n",
       "</div>"
      ],
      "text/plain": [
       "   Survived  Pclass  Sex   Age  ...     Fare  Embarked_C  Embarked_Q  Embarked_S\n",
       "0         1       2    0  17.0  ...  12.0000        True       False       False\n",
       "1         0       1    1  36.0  ...  78.8500       False       False        True\n",
       "2         0       3    0  14.5  ...  14.4542        True       False       False\n",
       "3         1       2    0  42.0  ...  13.0000       False       False        True\n",
       "4         1       2    0  41.0  ...  19.5000       False       False        True\n",
       "\n",
       "[5 rows x 10 columns]"
      ]
     },
     "execution_count": 2,
     "metadata": {},
     "output_type": "execute_result"
    }
   ],
   "source": [
    "titanic_df=pd.read_csv(\"Data/titanic_processed.csv\")\n",
    "titanic_df.head()"
   ]
  },
  {
   "cell_type": "code",
   "execution_count": 3,
   "metadata": {},
   "outputs": [
    {
     "data": {
      "text/plain": [
       "['Pclass',\n",
       " 'Sex',\n",
       " 'Age',\n",
       " 'SibSp',\n",
       " 'Parch',\n",
       " 'Fare',\n",
       " 'Embarked_C',\n",
       " 'Embarked_Q',\n",
       " 'Embarked_S']"
      ]
     },
     "execution_count": 3,
     "metadata": {},
     "output_type": "execute_result"
    }
   ],
   "source": [
    "FEATURES= list(titanic_df.columns[1:])\n",
    "FEATURES"
   ]
  },
  {
   "cell_type": "code",
   "execution_count": 4,
   "metadata": {},
   "outputs": [],
   "source": [
    "result_dict={}"
   ]
  },
  {
   "cell_type": "code",
   "execution_count": 5,
   "metadata": {},
   "outputs": [],
   "source": [
    "def summerize_classification(y_test,y_pred):\n",
    "    \"\"\"\n",
    "    This function take the actual values, and the predicted values from a model\n",
    "    and quickly summerize the differnet scors\n",
    "    \"\"\"\n",
    "\n",
    "    acc= accuracy_score(y_test,y_pred,normalize=True)\n",
    "    num_acc= accuracy_score(y_test,y_pred,normalize=False)\n",
    "\n",
    "    prec= precision_score(y_test,y_pred)\n",
    "    recall= recall_score(y_test,y_pred)\n",
    "\n",
    "    return {\"Accuracy\":acc,\n",
    "            \"Precision\":prec,\n",
    "            \"Recall\": recall,\n",
    "            \"Accuracy_count\":num_acc\n",
    "            }\n"
   ]
  },
  {
   "cell_type": "code",
   "execution_count": 6,
   "metadata": {},
   "outputs": [],
   "source": [
    "def build_model(classifier_fn, name_of_y_col,names_of_x_cols,dataset,test_frac=0.2):\n",
    "    \"\"\"\n",
    "    This function will help use to build and train different Classification models\n",
    "    \"\"\"\n",
    "    X= dataset[names_of_x_cols]\n",
    "    Y= dataset[name_of_y_col]\n",
    "\n",
    "    x_train, x_test, y_train, y_test= train_test_split(X,Y,test_size=test_frac)\n",
    "\n",
    "    model= classifier_fn(x_train,y_train)\n",
    "    y_pred= model.predict(x_test)\n",
    "\n",
    "    y_pred_train= model.predict(x_train)\n",
    "\n",
    "    train_summary= summerize_classification(y_train,y_pred_train)\n",
    "    test_summary= summerize_classification(y_test,y_pred)\n",
    "\n",
    "    pred_result= pd.DataFrame({'y_test':y_test,\n",
    "                               'y_pred':y_pred})\n",
    "    \n",
    "    model_corsstab= pd.crosstab(pred_result.y_pred,pred_result.y_test)\n",
    "\n",
    "    return {\n",
    "        \"training\" :train_summary,\n",
    "        \"test\": test_summary,\n",
    "        \"confusion_matrix\": model_corsstab\n",
    "    }\n"
   ]
  },
  {
   "cell_type": "code",
   "execution_count": 7,
   "metadata": {},
   "outputs": [],
   "source": [
    "def compare_result():\n",
    "    \"\"\"\n",
    "    Quickly Comapre the Result of the different classification models \n",
    "    \"\"\"\n",
    "    for key in result_dict:\n",
    "        print(\"Classfication \", key)\n",
    "        print()\n",
    "\n",
    "        print(\"Training Data\")\n",
    "        for score in result_dict[key][\"training\"]:\n",
    "            print(score, result_dict[key]['training'][score])\n",
    "        \n",
    "        print()\n",
    "\n",
    "        print(\"Test Data\")\n",
    "        for score in result_dict[key][\"test\"]:\n",
    "            print(score, result_dict[key]['test'][score])\n",
    "        \n",
    "        print()"
   ]
  },
  {
   "cell_type": "code",
   "execution_count": 8,
   "metadata": {},
   "outputs": [],
   "source": [
    "def logistic_fn(x_train,y_train):\n",
    "\n",
    "    model = LogisticRegression(solver='liblinear')\n",
    "    model.fit(x_train,y_train)\n",
    "    return model"
   ]
  },
  {
   "cell_type": "code",
   "execution_count": 9,
   "metadata": {},
   "outputs": [
    {
     "name": "stdout",
     "output_type": "stream",
     "text": [
      "Classfication  survived - logistic\n",
      "\n",
      "Training Data\n",
      "Accuracy 0.7943760984182777\n",
      "Precision 0.7761194029850746\n",
      "Recall 0.6842105263157895\n",
      "Accuracy_count 452.0\n",
      "\n",
      "Test Data\n",
      "Accuracy 0.8251748251748252\n",
      "Precision 0.8431372549019608\n",
      "Recall 0.7166666666666667\n",
      "Accuracy_count 118.0\n",
      "\n"
     ]
    }
   ],
   "source": [
    "result_dict['survived - logistic']= build_model(logistic_fn,\n",
    "                                                \"Survived\",\n",
    "                                                FEATURES,\n",
    "                                                titanic_df)\n",
    "compare_result()"
   ]
  },
  {
   "cell_type": "code",
   "execution_count": 10,
   "metadata": {},
   "outputs": [],
   "source": [
    "# now let's try another models / estimators\n",
    "\n",
    "\n",
    "def cla_SVC(x_train,y_train):\n",
    "    model = SVC()\n",
    "    model.fit(x_train,y_train)\n",
    "    return model\n",
    "\n",
    "\n",
    "\n",
    "\n",
    "def Guissian(x_train,y_train):\n",
    "    model = GaussianNB()\n",
    "    model.fit(x_train,y_train)\n",
    "    return model\n",
    "\n",
    "\n",
    "\n",
    "def Decision_Tree(x_train,y_train):\n",
    "    model =DecisionTreeClassifier()\n",
    "    model.fit(x_train,y_train)\n",
    "    return model\n",
    "\n",
    "def Random_Forest(x_train,y_train):\n",
    "    model=RandomForestClassifier()\n",
    "    model.fit(x_train,y_train)\n",
    "    return model\n",
    "\n",
    "\n",
    "def build_and_compare_models(classifiers, name_of_y_col, names_of_x_cols, dataset):\n",
    "    result_dict = {}\n",
    "    \n",
    "    for classifier_fn, name in classifiers:\n",
    "        result_dict[name] = build_model(classifier_fn, name_of_y_col, names_of_x_cols, dataset)\n",
    "    \n",
    "    return result_dict\n",
    "\n",
    "# Define your classifiers and their corresponding function\n",
    "classifiers = [\n",
    "    (logistic_fn, ' logistic'),\n",
    "    (cla_SVC, ' SVC'),\n",
    "    (Decision_Tree, ' DecisionTree'),\n",
    "    (Random_Forest, ' RandomForest'),\n",
    "    (Guissian, ' Guissian'),\n",
    "    # You can add more classifiers here as needed\n",
    "]\n",
    "\n",
    "# Now call the function to build and compare models\n",
    "result_dict = build_and_compare_models(classifiers, \"Survived\", FEATURES, titanic_df)"
   ]
  },
  {
   "cell_type": "code",
   "execution_count": 11,
   "metadata": {},
   "outputs": [
    {
     "name": "stdout",
     "output_type": "stream",
     "text": [
      "Classfication   logistic\n",
      "\n",
      "Training Data\n",
      "Accuracy 0.8101933216168717\n",
      "Precision 0.806930693069307\n",
      "Recall 0.7025862068965517\n",
      "Accuracy_count 461.0\n",
      "\n",
      "Test Data\n",
      "Accuracy 0.7552447552447552\n",
      "Precision 0.6779661016949152\n",
      "Recall 0.7142857142857143\n",
      "Accuracy_count 108.0\n",
      "\n",
      "Classfication   SVC\n",
      "\n",
      "Training Data\n",
      "Accuracy 0.671353251318102\n",
      "Precision 0.7264150943396226\n",
      "Recall 0.3276595744680851\n",
      "Accuracy_count 382.0\n",
      "\n",
      "Test Data\n",
      "Accuracy 0.6923076923076923\n",
      "Precision 0.6363636363636364\n",
      "Recall 0.39622641509433965\n",
      "Accuracy_count 99.0\n",
      "\n",
      "Classfication   DecisionTree\n",
      "\n",
      "Training Data\n",
      "Accuracy 0.9876977152899824\n",
      "Precision 1.0\n",
      "Recall 0.9698275862068966\n",
      "Accuracy_count 562.0\n",
      "\n",
      "Test Data\n",
      "Accuracy 0.6923076923076923\n",
      "Precision 0.5967741935483871\n",
      "Recall 0.6607142857142857\n",
      "Accuracy_count 99.0\n",
      "\n",
      "Classfication   RandomForest\n",
      "\n",
      "Training Data\n",
      "Accuracy 0.9894551845342706\n",
      "Precision 0.9911111111111112\n",
      "Recall 0.9823788546255506\n",
      "Accuracy_count 563.0\n",
      "\n",
      "Test Data\n",
      "Accuracy 0.8111888111888111\n",
      "Precision 0.8269230769230769\n",
      "Recall 0.7049180327868853\n",
      "Accuracy_count 116.0\n",
      "\n",
      "Classfication   Guissian\n",
      "\n",
      "Training Data\n",
      "Accuracy 0.7750439367311072\n",
      "Precision 0.75\n",
      "Recall 0.6652173913043479\n",
      "Accuracy_count 441.0\n",
      "\n",
      "Test Data\n",
      "Accuracy 0.7482517482517482\n",
      "Precision 0.6964285714285714\n",
      "Recall 0.6724137931034483\n",
      "Accuracy_count 107.0\n",
      "\n"
     ]
    }
   ],
   "source": [
    "compare_result()"
   ]
  },
  {
   "cell_type": "markdown",
   "metadata": {},
   "source": [
    "This is very hard to View, \n",
    "Let's do some Visualization with Lovely Plotly"
   ]
  },
  {
   "cell_type": "code",
   "execution_count": 12,
   "metadata": {},
   "outputs": [
    {
     "data": {
      "application/vnd.plotly.v1+json": {
       "config": {
        "plotlyServerURL": "https://plot.ly"
       },
       "data": [
        {
         "alignmentgroup": "True",
         "hovertemplate": "Metric=Train Accuracy<br>Models=%{x}<br>Scores=%{y}<extra></extra>",
         "legendgroup": "Train Accuracy",
         "marker": {
          "color": "#636efa",
          "pattern": {
           "shape": ""
          }
         },
         "name": "Train Accuracy",
         "offsetgroup": "Train Accuracy",
         "orientation": "v",
         "showlegend": true,
         "textposition": "auto",
         "type": "bar",
         "x": [
          " logistic",
          " SVC",
          " DecisionTree",
          " RandomForest",
          " Guissian"
         ],
         "xaxis": "x",
         "y": [
          0.8101933216168717,
          0.671353251318102,
          0.9876977152899824,
          0.9894551845342706,
          0.7750439367311072
         ],
         "yaxis": "y"
        },
        {
         "alignmentgroup": "True",
         "hovertemplate": "Metric=Test Accuracy<br>Models=%{x}<br>Scores=%{y}<extra></extra>",
         "legendgroup": "Test Accuracy",
         "marker": {
          "color": "#EF553B",
          "pattern": {
           "shape": ""
          }
         },
         "name": "Test Accuracy",
         "offsetgroup": "Test Accuracy",
         "orientation": "v",
         "showlegend": true,
         "textposition": "auto",
         "type": "bar",
         "x": [
          " logistic",
          " SVC",
          " DecisionTree",
          " RandomForest",
          " Guissian"
         ],
         "xaxis": "x",
         "y": [
          0.7552447552447552,
          0.6923076923076923,
          0.6923076923076923,
          0.8111888111888111,
          0.7482517482517482
         ],
         "yaxis": "y"
        },
        {
         "alignmentgroup": "True",
         "hovertemplate": "Metric=Train Precision<br>Models=%{x}<br>Scores=%{y}<extra></extra>",
         "legendgroup": "Train Precision",
         "marker": {
          "color": "#00cc96",
          "pattern": {
           "shape": ""
          }
         },
         "name": "Train Precision",
         "offsetgroup": "Train Precision",
         "orientation": "v",
         "showlegend": true,
         "textposition": "auto",
         "type": "bar",
         "x": [
          " logistic",
          " SVC",
          " DecisionTree",
          " RandomForest",
          " Guissian"
         ],
         "xaxis": "x",
         "y": [
          0.806930693069307,
          0.7264150943396226,
          1,
          0.9911111111111112,
          0.75
         ],
         "yaxis": "y"
        },
        {
         "alignmentgroup": "True",
         "hovertemplate": "Metric=Test Precision<br>Models=%{x}<br>Scores=%{y}<extra></extra>",
         "legendgroup": "Test Precision",
         "marker": {
          "color": "#ab63fa",
          "pattern": {
           "shape": ""
          }
         },
         "name": "Test Precision",
         "offsetgroup": "Test Precision",
         "orientation": "v",
         "showlegend": true,
         "textposition": "auto",
         "type": "bar",
         "x": [
          " logistic",
          " SVC",
          " DecisionTree",
          " RandomForest",
          " Guissian"
         ],
         "xaxis": "x",
         "y": [
          0.6779661016949152,
          0.6363636363636364,
          0.5967741935483871,
          0.8269230769230769,
          0.6964285714285714
         ],
         "yaxis": "y"
        },
        {
         "alignmentgroup": "True",
         "hovertemplate": "Metric=Train Recall<br>Models=%{x}<br>Scores=%{y}<extra></extra>",
         "legendgroup": "Train Recall",
         "marker": {
          "color": "#FFA15A",
          "pattern": {
           "shape": ""
          }
         },
         "name": "Train Recall",
         "offsetgroup": "Train Recall",
         "orientation": "v",
         "showlegend": true,
         "textposition": "auto",
         "type": "bar",
         "x": [
          " logistic",
          " SVC",
          " DecisionTree",
          " RandomForest",
          " Guissian"
         ],
         "xaxis": "x",
         "y": [
          0.7025862068965517,
          0.3276595744680851,
          0.9698275862068966,
          0.9823788546255506,
          0.6652173913043479
         ],
         "yaxis": "y"
        },
        {
         "alignmentgroup": "True",
         "hovertemplate": "Metric=Test Recall<br>Models=%{x}<br>Scores=%{y}<extra></extra>",
         "legendgroup": "Test Recall",
         "marker": {
          "color": "#19d3f3",
          "pattern": {
           "shape": ""
          }
         },
         "name": "Test Recall",
         "offsetgroup": "Test Recall",
         "orientation": "v",
         "showlegend": true,
         "textposition": "auto",
         "type": "bar",
         "x": [
          " logistic",
          " SVC",
          " DecisionTree",
          " RandomForest",
          " Guissian"
         ],
         "xaxis": "x",
         "y": [
          0.7142857142857143,
          0.39622641509433965,
          0.6607142857142857,
          0.7049180327868853,
          0.6724137931034483
         ],
         "yaxis": "y"
        }
       ],
       "layout": {
        "barmode": "group",
        "height": 600,
        "legend": {
         "title": {
          "text": "Metric"
         },
         "tracegroupgap": 0
        },
        "template": {
         "data": {
          "bar": [
           {
            "error_x": {
             "color": "#2a3f5f"
            },
            "error_y": {
             "color": "#2a3f5f"
            },
            "marker": {
             "line": {
              "color": "#E5ECF6",
              "width": 0.5
             },
             "pattern": {
              "fillmode": "overlay",
              "size": 10,
              "solidity": 0.2
             }
            },
            "type": "bar"
           }
          ],
          "barpolar": [
           {
            "marker": {
             "line": {
              "color": "#E5ECF6",
              "width": 0.5
             },
             "pattern": {
              "fillmode": "overlay",
              "size": 10,
              "solidity": 0.2
             }
            },
            "type": "barpolar"
           }
          ],
          "carpet": [
           {
            "aaxis": {
             "endlinecolor": "#2a3f5f",
             "gridcolor": "white",
             "linecolor": "white",
             "minorgridcolor": "white",
             "startlinecolor": "#2a3f5f"
            },
            "baxis": {
             "endlinecolor": "#2a3f5f",
             "gridcolor": "white",
             "linecolor": "white",
             "minorgridcolor": "white",
             "startlinecolor": "#2a3f5f"
            },
            "type": "carpet"
           }
          ],
          "choropleth": [
           {
            "colorbar": {
             "outlinewidth": 0,
             "ticks": ""
            },
            "type": "choropleth"
           }
          ],
          "contour": [
           {
            "colorbar": {
             "outlinewidth": 0,
             "ticks": ""
            },
            "colorscale": [
             [
              0,
              "#0d0887"
             ],
             [
              0.1111111111111111,
              "#46039f"
             ],
             [
              0.2222222222222222,
              "#7201a8"
             ],
             [
              0.3333333333333333,
              "#9c179e"
             ],
             [
              0.4444444444444444,
              "#bd3786"
             ],
             [
              0.5555555555555556,
              "#d8576b"
             ],
             [
              0.6666666666666666,
              "#ed7953"
             ],
             [
              0.7777777777777778,
              "#fb9f3a"
             ],
             [
              0.8888888888888888,
              "#fdca26"
             ],
             [
              1,
              "#f0f921"
             ]
            ],
            "type": "contour"
           }
          ],
          "contourcarpet": [
           {
            "colorbar": {
             "outlinewidth": 0,
             "ticks": ""
            },
            "type": "contourcarpet"
           }
          ],
          "heatmap": [
           {
            "colorbar": {
             "outlinewidth": 0,
             "ticks": ""
            },
            "colorscale": [
             [
              0,
              "#0d0887"
             ],
             [
              0.1111111111111111,
              "#46039f"
             ],
             [
              0.2222222222222222,
              "#7201a8"
             ],
             [
              0.3333333333333333,
              "#9c179e"
             ],
             [
              0.4444444444444444,
              "#bd3786"
             ],
             [
              0.5555555555555556,
              "#d8576b"
             ],
             [
              0.6666666666666666,
              "#ed7953"
             ],
             [
              0.7777777777777778,
              "#fb9f3a"
             ],
             [
              0.8888888888888888,
              "#fdca26"
             ],
             [
              1,
              "#f0f921"
             ]
            ],
            "type": "heatmap"
           }
          ],
          "heatmapgl": [
           {
            "colorbar": {
             "outlinewidth": 0,
             "ticks": ""
            },
            "colorscale": [
             [
              0,
              "#0d0887"
             ],
             [
              0.1111111111111111,
              "#46039f"
             ],
             [
              0.2222222222222222,
              "#7201a8"
             ],
             [
              0.3333333333333333,
              "#9c179e"
             ],
             [
              0.4444444444444444,
              "#bd3786"
             ],
             [
              0.5555555555555556,
              "#d8576b"
             ],
             [
              0.6666666666666666,
              "#ed7953"
             ],
             [
              0.7777777777777778,
              "#fb9f3a"
             ],
             [
              0.8888888888888888,
              "#fdca26"
             ],
             [
              1,
              "#f0f921"
             ]
            ],
            "type": "heatmapgl"
           }
          ],
          "histogram": [
           {
            "marker": {
             "pattern": {
              "fillmode": "overlay",
              "size": 10,
              "solidity": 0.2
             }
            },
            "type": "histogram"
           }
          ],
          "histogram2d": [
           {
            "colorbar": {
             "outlinewidth": 0,
             "ticks": ""
            },
            "colorscale": [
             [
              0,
              "#0d0887"
             ],
             [
              0.1111111111111111,
              "#46039f"
             ],
             [
              0.2222222222222222,
              "#7201a8"
             ],
             [
              0.3333333333333333,
              "#9c179e"
             ],
             [
              0.4444444444444444,
              "#bd3786"
             ],
             [
              0.5555555555555556,
              "#d8576b"
             ],
             [
              0.6666666666666666,
              "#ed7953"
             ],
             [
              0.7777777777777778,
              "#fb9f3a"
             ],
             [
              0.8888888888888888,
              "#fdca26"
             ],
             [
              1,
              "#f0f921"
             ]
            ],
            "type": "histogram2d"
           }
          ],
          "histogram2dcontour": [
           {
            "colorbar": {
             "outlinewidth": 0,
             "ticks": ""
            },
            "colorscale": [
             [
              0,
              "#0d0887"
             ],
             [
              0.1111111111111111,
              "#46039f"
             ],
             [
              0.2222222222222222,
              "#7201a8"
             ],
             [
              0.3333333333333333,
              "#9c179e"
             ],
             [
              0.4444444444444444,
              "#bd3786"
             ],
             [
              0.5555555555555556,
              "#d8576b"
             ],
             [
              0.6666666666666666,
              "#ed7953"
             ],
             [
              0.7777777777777778,
              "#fb9f3a"
             ],
             [
              0.8888888888888888,
              "#fdca26"
             ],
             [
              1,
              "#f0f921"
             ]
            ],
            "type": "histogram2dcontour"
           }
          ],
          "mesh3d": [
           {
            "colorbar": {
             "outlinewidth": 0,
             "ticks": ""
            },
            "type": "mesh3d"
           }
          ],
          "parcoords": [
           {
            "line": {
             "colorbar": {
              "outlinewidth": 0,
              "ticks": ""
             }
            },
            "type": "parcoords"
           }
          ],
          "pie": [
           {
            "automargin": true,
            "type": "pie"
           }
          ],
          "scatter": [
           {
            "fillpattern": {
             "fillmode": "overlay",
             "size": 10,
             "solidity": 0.2
            },
            "type": "scatter"
           }
          ],
          "scatter3d": [
           {
            "line": {
             "colorbar": {
              "outlinewidth": 0,
              "ticks": ""
             }
            },
            "marker": {
             "colorbar": {
              "outlinewidth": 0,
              "ticks": ""
             }
            },
            "type": "scatter3d"
           }
          ],
          "scattercarpet": [
           {
            "marker": {
             "colorbar": {
              "outlinewidth": 0,
              "ticks": ""
             }
            },
            "type": "scattercarpet"
           }
          ],
          "scattergeo": [
           {
            "marker": {
             "colorbar": {
              "outlinewidth": 0,
              "ticks": ""
             }
            },
            "type": "scattergeo"
           }
          ],
          "scattergl": [
           {
            "marker": {
             "colorbar": {
              "outlinewidth": 0,
              "ticks": ""
             }
            },
            "type": "scattergl"
           }
          ],
          "scattermapbox": [
           {
            "marker": {
             "colorbar": {
              "outlinewidth": 0,
              "ticks": ""
             }
            },
            "type": "scattermapbox"
           }
          ],
          "scatterpolar": [
           {
            "marker": {
             "colorbar": {
              "outlinewidth": 0,
              "ticks": ""
             }
            },
            "type": "scatterpolar"
           }
          ],
          "scatterpolargl": [
           {
            "marker": {
             "colorbar": {
              "outlinewidth": 0,
              "ticks": ""
             }
            },
            "type": "scatterpolargl"
           }
          ],
          "scatterternary": [
           {
            "marker": {
             "colorbar": {
              "outlinewidth": 0,
              "ticks": ""
             }
            },
            "type": "scatterternary"
           }
          ],
          "surface": [
           {
            "colorbar": {
             "outlinewidth": 0,
             "ticks": ""
            },
            "colorscale": [
             [
              0,
              "#0d0887"
             ],
             [
              0.1111111111111111,
              "#46039f"
             ],
             [
              0.2222222222222222,
              "#7201a8"
             ],
             [
              0.3333333333333333,
              "#9c179e"
             ],
             [
              0.4444444444444444,
              "#bd3786"
             ],
             [
              0.5555555555555556,
              "#d8576b"
             ],
             [
              0.6666666666666666,
              "#ed7953"
             ],
             [
              0.7777777777777778,
              "#fb9f3a"
             ],
             [
              0.8888888888888888,
              "#fdca26"
             ],
             [
              1,
              "#f0f921"
             ]
            ],
            "type": "surface"
           }
          ],
          "table": [
           {
            "cells": {
             "fill": {
              "color": "#EBF0F8"
             },
             "line": {
              "color": "white"
             }
            },
            "header": {
             "fill": {
              "color": "#C8D4E3"
             },
             "line": {
              "color": "white"
             }
            },
            "type": "table"
           }
          ]
         },
         "layout": {
          "annotationdefaults": {
           "arrowcolor": "#2a3f5f",
           "arrowhead": 0,
           "arrowwidth": 1
          },
          "autotypenumbers": "strict",
          "coloraxis": {
           "colorbar": {
            "outlinewidth": 0,
            "ticks": ""
           }
          },
          "colorscale": {
           "diverging": [
            [
             0,
             "#8e0152"
            ],
            [
             0.1,
             "#c51b7d"
            ],
            [
             0.2,
             "#de77ae"
            ],
            [
             0.3,
             "#f1b6da"
            ],
            [
             0.4,
             "#fde0ef"
            ],
            [
             0.5,
             "#f7f7f7"
            ],
            [
             0.6,
             "#e6f5d0"
            ],
            [
             0.7,
             "#b8e186"
            ],
            [
             0.8,
             "#7fbc41"
            ],
            [
             0.9,
             "#4d9221"
            ],
            [
             1,
             "#276419"
            ]
           ],
           "sequential": [
            [
             0,
             "#0d0887"
            ],
            [
             0.1111111111111111,
             "#46039f"
            ],
            [
             0.2222222222222222,
             "#7201a8"
            ],
            [
             0.3333333333333333,
             "#9c179e"
            ],
            [
             0.4444444444444444,
             "#bd3786"
            ],
            [
             0.5555555555555556,
             "#d8576b"
            ],
            [
             0.6666666666666666,
             "#ed7953"
            ],
            [
             0.7777777777777778,
             "#fb9f3a"
            ],
            [
             0.8888888888888888,
             "#fdca26"
            ],
            [
             1,
             "#f0f921"
            ]
           ],
           "sequentialminus": [
            [
             0,
             "#0d0887"
            ],
            [
             0.1111111111111111,
             "#46039f"
            ],
            [
             0.2222222222222222,
             "#7201a8"
            ],
            [
             0.3333333333333333,
             "#9c179e"
            ],
            [
             0.4444444444444444,
             "#bd3786"
            ],
            [
             0.5555555555555556,
             "#d8576b"
            ],
            [
             0.6666666666666666,
             "#ed7953"
            ],
            [
             0.7777777777777778,
             "#fb9f3a"
            ],
            [
             0.8888888888888888,
             "#fdca26"
            ],
            [
             1,
             "#f0f921"
            ]
           ]
          },
          "colorway": [
           "#636efa",
           "#EF553B",
           "#00cc96",
           "#ab63fa",
           "#FFA15A",
           "#19d3f3",
           "#FF6692",
           "#B6E880",
           "#FF97FF",
           "#FECB52"
          ],
          "font": {
           "color": "#2a3f5f"
          },
          "geo": {
           "bgcolor": "white",
           "lakecolor": "white",
           "landcolor": "#E5ECF6",
           "showlakes": true,
           "showland": true,
           "subunitcolor": "white"
          },
          "hoverlabel": {
           "align": "left"
          },
          "hovermode": "closest",
          "mapbox": {
           "style": "light"
          },
          "paper_bgcolor": "white",
          "plot_bgcolor": "#E5ECF6",
          "polar": {
           "angularaxis": {
            "gridcolor": "white",
            "linecolor": "white",
            "ticks": ""
           },
           "bgcolor": "#E5ECF6",
           "radialaxis": {
            "gridcolor": "white",
            "linecolor": "white",
            "ticks": ""
           }
          },
          "scene": {
           "xaxis": {
            "backgroundcolor": "#E5ECF6",
            "gridcolor": "white",
            "gridwidth": 2,
            "linecolor": "white",
            "showbackground": true,
            "ticks": "",
            "zerolinecolor": "white"
           },
           "yaxis": {
            "backgroundcolor": "#E5ECF6",
            "gridcolor": "white",
            "gridwidth": 2,
            "linecolor": "white",
            "showbackground": true,
            "ticks": "",
            "zerolinecolor": "white"
           },
           "zaxis": {
            "backgroundcolor": "#E5ECF6",
            "gridcolor": "white",
            "gridwidth": 2,
            "linecolor": "white",
            "showbackground": true,
            "ticks": "",
            "zerolinecolor": "white"
           }
          },
          "shapedefaults": {
           "line": {
            "color": "#2a3f5f"
           }
          },
          "ternary": {
           "aaxis": {
            "gridcolor": "white",
            "linecolor": "white",
            "ticks": ""
           },
           "baxis": {
            "gridcolor": "white",
            "linecolor": "white",
            "ticks": ""
           },
           "bgcolor": "#E5ECF6",
           "caxis": {
            "gridcolor": "white",
            "linecolor": "white",
            "ticks": ""
           }
          },
          "title": {
           "x": 0.05
          },
          "xaxis": {
           "automargin": true,
           "gridcolor": "white",
           "linecolor": "white",
           "ticks": "",
           "title": {
            "standoff": 15
           },
           "zerolinecolor": "white",
           "zerolinewidth": 2
          },
          "yaxis": {
           "automargin": true,
           "gridcolor": "white",
           "linecolor": "white",
           "ticks": "",
           "title": {
            "standoff": 15
           },
           "zerolinecolor": "white",
           "zerolinewidth": 2
          }
         }
        },
        "title": {
         "text": "Model Comparison"
        },
        "xaxis": {
         "anchor": "y",
         "domain": [
          0,
          1
         ],
         "tickangle": -45,
         "title": {
          "text": "Models"
         }
        },
        "yaxis": {
         "anchor": "x",
         "domain": [
          0,
          1
         ],
         "title": {
          "text": "Scores"
         }
        }
       }
      }
     },
     "metadata": {},
     "output_type": "display_data"
    }
   ],
   "source": [
    "import pandas as pd\n",
    "import plotly.express as px\n",
    "\n",
    "def plot_model_comparisons(result_dict):\n",
    "    metrics = []\n",
    "    \n",
    "    for model_name, results in result_dict.items():\n",
    "        train_summary = results['training']\n",
    "        test_summary = results['test']\n",
    "        \n",
    "        metrics.append({\n",
    "            'Model': model_name,\n",
    "            'Train Accuracy': train_summary['Accuracy'],\n",
    "            'Test Accuracy': test_summary['Accuracy'],\n",
    "            'Train Precision': train_summary['Precision'],\n",
    "            'Test Precision': test_summary['Precision'],\n",
    "            'Train Recall': train_summary['Recall'],\n",
    "            'Test Recall': test_summary['Recall'],\n",
    "        })\n",
    "    \n",
    "    metrics_df = pd.DataFrame(metrics)\n",
    "\n",
    "    metrics_melted = metrics_df.melt(id_vars='Model', var_name='Metric', value_name='Score')\n",
    "\n",
    "    fig = px.bar(metrics_melted, \n",
    "                 x='Model', \n",
    "                 y='Score', \n",
    "                 color='Metric', \n",
    "                 barmode='group',\n",
    "                 title='Model Comparison',\n",
    "                 labels={'Score': 'Scores', 'Model': 'Models'},\n",
    "                 height=600)\n",
    "\n",
    "    fig.update_layout(xaxis_tickangle=-45)\n",
    "    fig.show()\n",
    "\n",
    "plot_model_comparisons(result_dict)\n"
   ]
  },
  {
   "cell_type": "markdown",
   "metadata": {},
   "source": [
    "As Expected for Decisioin Tree and Random Forest => they are on overfit\n",
    "\n",
    "for more info about this problem check:\n",
    "- https://www.quora.com/Why-do-decision-trees-have-a-tendency-to-overfit-to-the-training-set\n",
    "- https://datascience.stackexchange.com/questions/84254/why-is-large-decision-tree-likely-to-overfit\n",
    "\n",
    "* Of course, you can ask ChatGPT :)"
   ]
  },
  {
   "cell_type": "code",
   "execution_count": null,
   "metadata": {},
   "outputs": [],
   "source": []
  }
 ],
 "metadata": {
  "kernelspec": {
   "display_name": ".venv",
   "language": "python",
   "name": "python3"
  },
  "language_info": {
   "codemirror_mode": {
    "name": "ipython",
    "version": 3
   },
   "file_extension": ".py",
   "mimetype": "text/x-python",
   "name": "python",
   "nbconvert_exporter": "python",
   "pygments_lexer": "ipython3",
   "version": "3.12.5"
  }
 },
 "nbformat": 4,
 "nbformat_minor": 2
}
