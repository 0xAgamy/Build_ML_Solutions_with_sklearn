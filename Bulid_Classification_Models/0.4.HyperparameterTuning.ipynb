{
 "cells": [
  {
   "cell_type": "markdown",
   "metadata": {},
   "source": [
    "# Hyperparameter Tuning with GridSearchCV\n",
    "\n",
    "Now you have your training data and you have the algorithm that you want to use,\n",
    "\n",
    "but how do you know what design of this algorithm is the best ?\n",
    "\n",
    "that's exactly what hyperparameter turning gave us\n"
   ]
  },
  {
   "cell_type": "code",
   "execution_count": 575,
   "metadata": {},
   "outputs": [],
   "source": [
    "import pandas as pd \n",
    "import numpy as np\n",
    "\n",
    "from sklearn.model_selection import GridSearchCV , train_test_split\n",
    "\n",
    "from sklearn.metrics import accuracy_score, precision_score,recall_score\n",
    "\n",
    "from sklearn.linear_model import LogisticRegression\n",
    "from sklearn.tree import DecisionTreeClassifier\n",
    "from sklearn.ensemble import RandomForestClassifier\n",
    "\n"
   ]
  },
  {
   "cell_type": "code",
   "execution_count": 547,
   "metadata": {},
   "outputs": [
    {
     "data": {
      "text/html": [
       "<div>\n",
       "<style scoped>\n",
       "    .dataframe tbody tr th:only-of-type {\n",
       "        vertical-align: middle;\n",
       "    }\n",
       "\n",
       "    .dataframe tbody tr th {\n",
       "        vertical-align: top;\n",
       "    }\n",
       "\n",
       "    .dataframe thead th {\n",
       "        text-align: right;\n",
       "    }\n",
       "</style>\n",
       "<table border=\"1\" class=\"dataframe\">\n",
       "  <thead>\n",
       "    <tr style=\"text-align: right;\">\n",
       "      <th></th>\n",
       "      <th>Survived</th>\n",
       "      <th>Pclass</th>\n",
       "      <th>Sex</th>\n",
       "      <th>Age</th>\n",
       "      <th>SibSp</th>\n",
       "      <th>Parch</th>\n",
       "      <th>Fare</th>\n",
       "      <th>Embarked_C</th>\n",
       "      <th>Embarked_Q</th>\n",
       "      <th>Embarked_S</th>\n",
       "    </tr>\n",
       "  </thead>\n",
       "  <tbody>\n",
       "    <tr>\n",
       "      <th>0</th>\n",
       "      <td>1</td>\n",
       "      <td>2</td>\n",
       "      <td>0</td>\n",
       "      <td>17.0</td>\n",
       "      <td>0</td>\n",
       "      <td>0</td>\n",
       "      <td>12.0000</td>\n",
       "      <td>True</td>\n",
       "      <td>False</td>\n",
       "      <td>False</td>\n",
       "    </tr>\n",
       "    <tr>\n",
       "      <th>1</th>\n",
       "      <td>0</td>\n",
       "      <td>1</td>\n",
       "      <td>1</td>\n",
       "      <td>36.0</td>\n",
       "      <td>1</td>\n",
       "      <td>0</td>\n",
       "      <td>78.8500</td>\n",
       "      <td>False</td>\n",
       "      <td>False</td>\n",
       "      <td>True</td>\n",
       "    </tr>\n",
       "    <tr>\n",
       "      <th>2</th>\n",
       "      <td>0</td>\n",
       "      <td>3</td>\n",
       "      <td>0</td>\n",
       "      <td>14.5</td>\n",
       "      <td>1</td>\n",
       "      <td>0</td>\n",
       "      <td>14.4542</td>\n",
       "      <td>True</td>\n",
       "      <td>False</td>\n",
       "      <td>False</td>\n",
       "    </tr>\n",
       "    <tr>\n",
       "      <th>3</th>\n",
       "      <td>1</td>\n",
       "      <td>2</td>\n",
       "      <td>0</td>\n",
       "      <td>42.0</td>\n",
       "      <td>0</td>\n",
       "      <td>0</td>\n",
       "      <td>13.0000</td>\n",
       "      <td>False</td>\n",
       "      <td>False</td>\n",
       "      <td>True</td>\n",
       "    </tr>\n",
       "    <tr>\n",
       "      <th>4</th>\n",
       "      <td>1</td>\n",
       "      <td>2</td>\n",
       "      <td>0</td>\n",
       "      <td>41.0</td>\n",
       "      <td>0</td>\n",
       "      <td>1</td>\n",
       "      <td>19.5000</td>\n",
       "      <td>False</td>\n",
       "      <td>False</td>\n",
       "      <td>True</td>\n",
       "    </tr>\n",
       "  </tbody>\n",
       "</table>\n",
       "</div>"
      ],
      "text/plain": [
       "   Survived  Pclass  Sex   Age  ...     Fare  Embarked_C  Embarked_Q  Embarked_S\n",
       "0         1       2    0  17.0  ...  12.0000        True       False       False\n",
       "1         0       1    1  36.0  ...  78.8500       False       False        True\n",
       "2         0       3    0  14.5  ...  14.4542        True       False       False\n",
       "3         1       2    0  42.0  ...  13.0000       False       False        True\n",
       "4         1       2    0  41.0  ...  19.5000       False       False        True\n",
       "\n",
       "[5 rows x 10 columns]"
      ]
     },
     "execution_count": 547,
     "metadata": {},
     "output_type": "execute_result"
    }
   ],
   "source": [
    "titanic_df= pd.read_csv(\"Data/titanic_processed.csv\")\n",
    "titanic_df.head()"
   ]
  },
  {
   "cell_type": "code",
   "execution_count": 548,
   "metadata": {},
   "outputs": [],
   "source": [
    "X= titanic_df.drop(\"Survived\",axis=1)\n",
    "Y= titanic_df[\"Survived\"]\n",
    "\n",
    "x_train, x_test, y_train, y_test= train_test_split(X,Y,test_size=0.2,random_state=42)\n"
   ]
  },
  {
   "cell_type": "code",
   "execution_count": 549,
   "metadata": {},
   "outputs": [],
   "source": [
    "def summarize_classification(y_test,y_pred):\n",
    "\n",
    "    acc= accuracy_score(y_test,y_pred,normalize=True)\n",
    "    num_acc= accuracy_score(y_test,y_pred,normalize=False)\n",
    "\n",
    "    prec= precision_score(y_test,y_pred)\n",
    "    recall= recall_score(y_test,y_pred)\n",
    "\n",
    "    print(\"Test Data Count: \", len(y_test))\n",
    "    print(\"Accuracy Count: \",num_acc)\n",
    "    print(\"Accuracy Score: \",acc)\n",
    "    print(\"Precision Score: \",prec)\n",
    "    print(\"Recall Score: \",recall)\n",
    "    print()\n",
    "    return {acc,prec,recall}"
   ]
  },
  {
   "cell_type": "markdown",
   "metadata": {},
   "source": [
    "## Pruning for Perfection"
   ]
  },
  {
   "cell_type": "code",
   "execution_count": 568,
   "metadata": {},
   "outputs": [
    {
     "name": "stderr",
     "output_type": "stream",
     "text": [
      "f:\\Project\\AI\\Build_ML_Solutions_with_sklearn\\.venv\\Lib\\site-packages\\numpy\\ma\\core.py:2881: RuntimeWarning:\n",
      "\n",
      "invalid value encountered in cast\n",
      "\n"
     ]
    },
    {
     "data": {
      "text/plain": [
       "{'criterion': 'entropy', 'max_depth': 6}"
      ]
     },
     "execution_count": 568,
     "metadata": {},
     "output_type": "execute_result"
    }
   ],
   "source": [
    "\n",
    "parameters= {\n",
    "    'criterion': ['gini', 'entropy'],\n",
    "    'max_depth':[2,4,6,8,10],\n",
    "   \n",
    "    }\n",
    "\n",
    "grid_seach= GridSearchCV(DecisionTreeClassifier(),parameters,cv=3,return_train_score=True)\n",
    "grid_seach.fit(x_train,y_train)\n",
    "\n",
    "grid_seach.best_params_"
   ]
  },
  {
   "cell_type": "code",
   "execution_count": 573,
   "metadata": {},
   "outputs": [
    {
     "name": "stdout",
     "output_type": "stream",
     "text": [
      "parameters {'criterion': 'gini', 'max_depth': 2}\n",
      "Mean Test Score 0.7908010767659891\n",
      "Rank 6\n",
      "------------\n",
      "parameters {'criterion': 'gini', 'max_depth': 4}\n",
      "Mean Test Score 0.8066462452427364\n",
      "Rank 4\n",
      "------------\n",
      "parameters {'criterion': 'gini', 'max_depth': 6}\n",
      "Mean Test Score 0.8083635013459576\n",
      "Rank 2\n",
      "------------\n",
      "parameters {'criterion': 'gini', 'max_depth': 8}\n",
      "Mean Test Score 0.7855750487329435\n",
      "Rank 8\n",
      "------------\n",
      "parameters {'criterion': 'gini', 'max_depth': 10}\n",
      "Mean Test Score 0.7784646802190661\n",
      "Rank 9\n",
      "------------\n",
      "parameters {'criterion': 'entropy', 'max_depth': 2}\n",
      "Mean Test Score 0.7908010767659891\n",
      "Rank 6\n",
      "------------\n",
      "parameters {'criterion': 'entropy', 'max_depth': 4}\n",
      "Mean Test Score 0.803137473312912\n",
      "Rank 5\n",
      "------------\n",
      "parameters {'criterion': 'entropy', 'max_depth': 6}\n",
      "Mean Test Score 0.8188990996008539\n",
      "Rank 1\n",
      "------------\n",
      "parameters {'criterion': 'entropy', 'max_depth': 8}\n",
      "Mean Test Score 0.8066462452427365\n",
      "Rank 3\n",
      "------------\n",
      "parameters {'criterion': 'entropy', 'max_depth': 10}\n",
      "Mean Test Score 0.7749651907546644\n",
      "Rank 10\n",
      "------------\n"
     ]
    }
   ],
   "source": [
    "for i in range(10):\n",
    "    print(\"parameters\", grid_seach.cv_results_[\"params\"][i])\n",
    "    print(\"Mean Test Score\", grid_seach.cv_results_['mean_test_score'][i])\n",
    "    print(\"Rank\", grid_seach.cv_results_['rank_test_score'][i])\n",
    "    print(\"------------\")"
   ]
  },
  {
   "cell_type": "code",
   "execution_count": 569,
   "metadata": {},
   "outputs": [],
   "source": [
    "\n",
    "decision_tree_model= DecisionTreeClassifier(\\\n",
    "    max_depth=grid_seach.best_params_['max_depth'],criterion=grid_seach.best_params_['criterion'],\n",
    "   \n",
    "    ).fit(x_train,y_train)"
   ]
  },
  {
   "cell_type": "code",
   "execution_count": 570,
   "metadata": {},
   "outputs": [],
   "source": [
    "y_pred=decision_tree_model.predict(x_test)"
   ]
  },
  {
   "cell_type": "code",
   "execution_count": 572,
   "metadata": {},
   "outputs": [
    {
     "name": "stdout",
     "output_type": "stream",
     "text": [
      "Test Data Count:  143\n",
      "Accuracy Count:  110.0\n",
      "Accuracy Score:  0.7692307692307693\n",
      "Precision Score:  0.7954545454545454\n",
      "Recall Score:  0.5932203389830508\n",
      "\n"
     ]
    }
   ],
   "source": [
    "dt_scores=summarize_classification(y_test,y_pred)"
   ]
  },
  {
   "cell_type": "markdown",
   "metadata": {},
   "source": [
    "## Taming the Forest"
   ]
  },
  {
   "cell_type": "code",
   "execution_count": 576,
   "metadata": {},
   "outputs": [
    {
     "name": "stderr",
     "output_type": "stream",
     "text": [
      "f:\\Project\\AI\\Build_ML_Solutions_with_sklearn\\.venv\\Lib\\site-packages\\sklearn\\model_selection\\_validation.py:540: FitFailedWarning:\n",
      "\n",
      "\n",
      "324 fits failed out of a total of 648.\n",
      "The score on these train-test partitions for these parameters will be set to nan.\n",
      "If these failures are not expected, you can try to debug them by setting error_score='raise'.\n",
      "\n",
      "Below are more details about the failures:\n",
      "--------------------------------------------------------------------------------\n",
      "324 fits failed with the following error:\n",
      "Traceback (most recent call last):\n",
      "  File \"f:\\Project\\AI\\Build_ML_Solutions_with_sklearn\\.venv\\Lib\\site-packages\\sklearn\\model_selection\\_validation.py\", line 888, in _fit_and_score\n",
      "    estimator.fit(X_train, y_train, **fit_params)\n",
      "  File \"f:\\Project\\AI\\Build_ML_Solutions_with_sklearn\\.venv\\Lib\\site-packages\\sklearn\\base.py\", line 1466, in wrapper\n",
      "    estimator._validate_params()\n",
      "  File \"f:\\Project\\AI\\Build_ML_Solutions_with_sklearn\\.venv\\Lib\\site-packages\\sklearn\\base.py\", line 666, in _validate_params\n",
      "    validate_parameter_constraints(\n",
      "  File \"f:\\Project\\AI\\Build_ML_Solutions_with_sklearn\\.venv\\Lib\\site-packages\\sklearn\\utils\\_param_validation.py\", line 95, in validate_parameter_constraints\n",
      "    raise InvalidParameterError(\n",
      "sklearn.utils._param_validation.InvalidParameterError: The 'max_features' parameter of RandomForestClassifier must be an int in the range [1, inf), a float in the range (0.0, 1.0], a str among {'log2', 'sqrt'} or None. Got 'auto' instead.\n",
      "\n",
      "\n",
      "f:\\Project\\AI\\Build_ML_Solutions_with_sklearn\\.venv\\Lib\\site-packages\\sklearn\\model_selection\\_search.py:1103: UserWarning:\n",
      "\n",
      "One or more of the test scores are non-finite: [       nan        nan        nan        nan        nan        nan\n",
      "        nan        nan        nan        nan        nan        nan\n",
      "        nan        nan        nan        nan        nan        nan\n",
      "        nan        nan        nan        nan        nan        nan\n",
      "        nan        nan        nan 0.80835422 0.81539033 0.81012717\n",
      " 0.82947183 0.81893623 0.8312355  0.82419939 0.83302701 0.84178966\n",
      " 0.82422723 0.84354405 0.83298988 0.82241715 0.83653578 0.82948111\n",
      " 0.8295368  0.8206999  0.83300845 0.82773601 0.82420867 0.83477212\n",
      " 0.83301773 0.83125406 0.82245428 0.82070918 0.82598162 0.82949039\n",
      "        nan        nan        nan        nan        nan        nan\n",
      "        nan        nan        nan        nan        nan        nan\n",
      "        nan        nan        nan        nan        nan        nan\n",
      "        nan        nan        nan        nan        nan        nan\n",
      "        nan        nan        nan 0.8188991  0.80484545 0.82242644\n",
      " 0.82947183 0.82245428 0.82949039 0.84181751 0.83301773 0.83829017\n",
      " 0.81893623 0.8312355  0.83475355 0.82070918 0.82422723 0.83126334\n",
      " 0.82420867 0.84004456 0.83300845 0.82070918 0.822445   0.83126334\n",
      " 0.82069062 0.82949968 0.83302701 0.82069062 0.83126334 0.82949968\n",
      "        nan        nan        nan        nan        nan        nan\n",
      "        nan        nan        nan        nan        nan        nan\n",
      "        nan        nan        nan        nan        nan        nan\n",
      "        nan        nan        nan        nan        nan        nan\n",
      "        nan        nan        nan 0.79606423 0.8101086  0.80483616\n",
      " 0.82771744 0.82769888 0.82948111 0.82772672 0.83125406 0.82598162\n",
      " 0.82595377 0.83298988 0.82420867 0.81714471 0.82772672 0.8382716\n",
      " 0.8329806  0.83126334 0.83124478 0.81720041 0.83126334 0.83126334\n",
      " 0.83301773 0.82422723 0.83126334 0.82421795 0.822445   0.82422723\n",
      "        nan        nan        nan        nan        nan        nan\n",
      "        nan        nan        nan        nan        nan        nan\n",
      "        nan        nan        nan        nan        nan        nan\n",
      "        nan        nan        nan        nan        nan        nan\n",
      "        nan        nan        nan 0.81013645 0.80660912 0.81009932\n",
      " 0.82774529 0.8435162  0.83124478 0.82420867 0.83124478 0.82949968\n",
      " 0.82595377 0.82247285 0.83125406 0.81890838 0.83475355 0.83300845\n",
      " 0.82597234 0.83124478 0.83477212 0.82773601 0.83828089 0.83126334\n",
      " 0.83653578 0.82600019 0.83650794 0.82772672 0.82774529 0.83653578]\n",
      "\n",
      "f:\\Project\\AI\\Build_ML_Solutions_with_sklearn\\.venv\\Lib\\site-packages\\sklearn\\model_selection\\_search.py:1103: UserWarning:\n",
      "\n",
      "One or more of the train scores are non-finite: [       nan        nan        nan        nan        nan        nan\n",
      "        nan        nan        nan        nan        nan        nan\n",
      "        nan        nan        nan        nan        nan        nan\n",
      "        nan        nan        nan        nan        nan        nan\n",
      "        nan        nan        nan 0.99121187 0.99209138 0.99209138\n",
      " 0.93057677 0.9358515  0.94112392 0.90684859 0.90596445 0.90245336\n",
      " 0.92881544 0.92090682 0.92530436 0.91739805 0.9182683  0.91651391\n",
      " 0.90245336 0.89366523 0.89893996 0.8883905  0.8883905  0.88751099\n",
      " 0.8866338  0.88399065 0.89190622 0.88663612 0.88136138 0.8848771\n",
      "        nan        nan        nan        nan        nan        nan\n",
      "        nan        nan        nan        nan        nan        nan\n",
      "        nan        nan        nan        nan        nan        nan\n",
      "        nan        nan        nan        nan        nan        nan\n",
      "        nan        nan        nan 0.95957043 0.96484285 0.96572467\n",
      " 0.93145859 0.92794519 0.92882007 0.90421469 0.90508957 0.90597139\n",
      " 0.92003425 0.92003657 0.91915938 0.91827293 0.91563903 0.91739342\n",
      " 0.89102439 0.89806045 0.89893996 0.89015415 0.88839282 0.89366292\n",
      " 0.88926769 0.89102439 0.88926769 0.89014257 0.88311346 0.88927001\n",
      "        nan        nan        nan        nan        nan        nan\n",
      "        nan        nan        nan        nan        nan        nan\n",
      "        nan        nan        nan        nan        nan        nan\n",
      "        nan        nan        nan        nan        nan        nan\n",
      "        nan        nan        nan 0.99209138 0.99209138 0.99209138\n",
      " 0.93848771 0.9437555  0.93936722 0.91300051 0.90332824 0.90508726\n",
      " 0.92179327 0.92090682 0.92442485 0.9165116  0.91651391 0.91915706\n",
      " 0.90069435 0.89630375 0.90421006 0.88487479 0.89102671 0.89102671\n",
      " 0.88838819 0.8848771  0.8883905  0.88223858 0.88750868 0.89102902\n",
      "        nan        nan        nan        nan        nan        nan\n",
      "        nan        nan        nan        nan        nan        nan\n",
      "        nan        nan        nan        nan        nan        nan\n",
      "        nan        nan        nan        nan        nan        nan\n",
      "        nan        nan        nan 0.99209138 0.99209138 0.99209138\n",
      " 0.93672638 0.93936259 0.94024441 0.9103643  0.90420312 0.91035736\n",
      " 0.91563209 0.92529741 0.92442253 0.91915243 0.9156344  0.92003425\n",
      " 0.89893765 0.89717863 0.90069203 0.88839513 0.8901472  0.89278572\n",
      " 0.88575429 0.89014952 0.89190853 0.88223626 0.88575429 0.88926769]\n",
      "\n"
     ]
    },
    {
     "data": {
      "text/plain": [
       "{'max_depth': None,\n",
       " 'max_features': 'sqrt',\n",
       " 'min_samples_leaf': 2,\n",
       " 'min_samples_split': 2,\n",
       " 'n_estimators': 100}"
      ]
     },
     "execution_count": 576,
     "metadata": {},
     "output_type": "execute_result"
    }
   ],
   "source": [
    "parameters= {\n",
    "    'n_estimators': [50, 100, 200],\n",
    "    'max_depth': [None, 10, 20, 30],\n",
    "    'min_samples_split': [2, 5, 10],\n",
    "    'min_samples_leaf': [1, 2, 4],\n",
    "    'max_features': ['auto', 'sqrt']\n",
    "    }\n",
    "\n",
    "grid_seach= GridSearchCV(RandomForestClassifier(),parameters,cv=3,return_train_score=True)\n",
    "grid_seach.fit(x_train,y_train)\n",
    "\n",
    "grid_seach.best_params_"
   ]
  },
  {
   "cell_type": "code",
   "execution_count": 578,
   "metadata": {},
   "outputs": [],
   "source": [
    "randomFromst_model=RandomForestClassifier(n_estimators=grid_seach.best_params_['n_estimators'],\n",
    "                                          max_depth=grid_seach.best_params_['max_depth'],\n",
    "                                          min_samples_leaf=grid_seach.best_params_['min_samples_leaf'],\n",
    "                                          min_samples_split=grid_seach.best_params_['min_samples_leaf'],\n",
    "                                          max_features=grid_seach.best_params_['max_features']\n",
    "                                          ).fit(x_train,y_train)"
   ]
  },
  {
   "cell_type": "code",
   "execution_count": 579,
   "metadata": {},
   "outputs": [],
   "source": [
    "y_pred_rf=randomFromst_model.predict(x_test)"
   ]
  },
  {
   "cell_type": "code",
   "execution_count": 580,
   "metadata": {},
   "outputs": [
    {
     "name": "stdout",
     "output_type": "stream",
     "text": [
      "Test Data Count:  143\n",
      "Accuracy Count:  111.0\n",
      "Accuracy Score:  0.7762237762237763\n",
      "Precision Score:  0.7755102040816326\n",
      "Recall Score:  0.6440677966101694\n",
      "\n"
     ]
    }
   ],
   "source": [
    "rf_scores=summarize_classification(y_test,y_pred_rf)"
   ]
  },
  {
   "cell_type": "markdown",
   "metadata": {},
   "source": [
    "## Hyperparameter Optimization for Logistic Regression"
   ]
  },
  {
   "cell_type": "code",
   "execution_count": 555,
   "metadata": {},
   "outputs": [
    {
     "name": "stdout",
     "output_type": "stream",
     "text": [
      "Fitting 3 folds for each of 12 candidates, totalling 36 fits\n"
     ]
    },
    {
     "data": {
      "text/plain": [
       "{'C': 2, 'penalty': 'l1'}"
      ]
     },
     "execution_count": 555,
     "metadata": {},
     "output_type": "execute_result"
    }
   ],
   "source": [
    "parameters= {\n",
    "    'penalty':['l1','l2'],\n",
    "    'C':[0.1,0.4,0.8,1,2,5]\n",
    "    \n",
    "}\n",
    "\n",
    "grid_seach= GridSearchCV(LogisticRegression(solver='liblinear'),parameters,cv=3,return_train_score=True,verbose=1)\n",
    "grid_seach.fit(x_train,y_train)\n",
    "\n",
    "grid_seach.best_params_"
   ]
  },
  {
   "cell_type": "code",
   "execution_count": 556,
   "metadata": {},
   "outputs": [
    {
     "name": "stdout",
     "output_type": "stream",
     "text": [
      "parameters {'C': 0.1, 'penalty': 'l1'}\n",
      "Mean Test Score 0.7662211083263714\n",
      "Rank 12\n",
      "------------\n",
      "parameters {'C': 0.1, 'penalty': 'l2'}\n",
      "Mean Test Score 0.785547201336675\n",
      "Rank 11\n",
      "------------\n",
      "parameters {'C': 0.4, 'penalty': 'l1'}\n",
      "Mean Test Score 0.8013552399517311\n",
      "Rank 10\n",
      "------------\n",
      "parameters {'C': 0.4, 'penalty': 'l2'}\n",
      "Mean Test Score 0.8048918592778241\n",
      "Rank 5\n",
      "------------\n",
      "parameters {'C': 0.8, 'penalty': 'l1'}\n",
      "Mean Test Score 0.806618397846468\n",
      "Rank 3\n",
      "------------\n",
      "parameters {'C': 0.8, 'penalty': 'l2'}\n",
      "Mean Test Score 0.801364522417154\n",
      "Rank 9\n",
      "------------\n",
      "parameters {'C': 1, 'penalty': 'l1'}\n",
      "Mean Test Score 0.8048640118815557\n",
      "Rank 7\n",
      "------------\n",
      "parameters {'C': 1, 'penalty': 'l2'}\n",
      "Mean Test Score 0.8048825768124014\n",
      "Rank 6\n",
      "------------\n",
      "parameters {'C': 2, 'penalty': 'l1'}\n",
      "Mean Test Score 0.8101457347071381\n",
      "Rank 1\n",
      "------------\n",
      "parameters {'C': 2, 'penalty': 'l2'}\n",
      "Mean Test Score 0.8031003434512206\n",
      "Rank 8\n",
      "------------\n"
     ]
    }
   ],
   "source": [
    "for i in range(10):\n",
    "    print(\"parameters\", grid_seach.cv_results_[\"params\"][i])\n",
    "    print(\"Mean Test Score\", grid_seach.cv_results_['mean_test_score'][i])\n",
    "    print(\"Rank\", grid_seach.cv_results_['rank_test_score'][i])\n",
    "    print(\"------------\")"
   ]
  },
  {
   "cell_type": "code",
   "execution_count": 557,
   "metadata": {},
   "outputs": [],
   "source": [
    "\n",
    "logistic_model= LogisticRegression(solver='liblinear',\n",
    "    penalty=grid_seach.best_params_['penalty'],C=grid_seach.best_params_[\"C\"]\n",
    "    ).fit(x_train,y_train)"
   ]
  },
  {
   "cell_type": "code",
   "execution_count": 558,
   "metadata": {},
   "outputs": [],
   "source": [
    "y_perd_lr= logistic_model.predict(x_test)"
   ]
  },
  {
   "cell_type": "code",
   "execution_count": 559,
   "metadata": {},
   "outputs": [
    {
     "name": "stdout",
     "output_type": "stream",
     "text": [
      "Test Data Count:  143\n",
      "Accuracy Count:  111.0\n",
      "Accuracy Score:  0.7762237762237763\n",
      "Precision Score:  0.7547169811320755\n",
      "Recall Score:  0.6779661016949152\n",
      "\n"
     ]
    }
   ],
   "source": [
    "lr_scores=summarize_classification(y_test,y_perd_lr)"
   ]
  },
  {
   "cell_type": "code",
   "execution_count": 560,
   "metadata": {},
   "outputs": [
    {
     "data": {
      "text/plain": [
       "set"
      ]
     },
     "execution_count": 560,
     "metadata": {},
     "output_type": "execute_result"
    }
   ],
   "source": [
    "type(lr_scores)"
   ]
  },
  {
   "cell_type": "markdown",
   "metadata": {},
   "source": [
    "## Comparing Models Performance"
   ]
  },
  {
   "cell_type": "code",
   "execution_count": 584,
   "metadata": {},
   "outputs": [
    {
     "data": {
      "application/vnd.plotly.v1+json": {
       "config": {
        "plotlyServerURL": "https://plot.ly"
       },
       "data": [
        {
         "alignmentgroup": "True",
         "hovertemplate": "Model=Logistic Regression<br>Metrics=%{x}<br>Scores=%{y}<extra></extra>",
         "legendgroup": "Logistic Regression",
         "marker": {
          "color": "#636efa",
          "pattern": {
           "shape": ""
          }
         },
         "name": "Logistic Regression",
         "offsetgroup": "Logistic Regression",
         "orientation": "v",
         "showlegend": true,
         "textposition": "auto",
         "type": "bar",
         "x": [
          "Accuracy",
          "Precision",
          "Recall"
         ],
         "xaxis": "x",
         "y": [
          0.7762237762237763,
          0.7547169811320755,
          0.6779661016949152
         ],
         "yaxis": "y"
        },
        {
         "alignmentgroup": "True",
         "hovertemplate": "Model=Decision Tree<br>Metrics=%{x}<br>Scores=%{y}<extra></extra>",
         "legendgroup": "Decision Tree",
         "marker": {
          "color": "#EF553B",
          "pattern": {
           "shape": ""
          }
         },
         "name": "Decision Tree",
         "offsetgroup": "Decision Tree",
         "orientation": "v",
         "showlegend": true,
         "textposition": "auto",
         "type": "bar",
         "x": [
          "Accuracy",
          "Precision",
          "Recall"
         ],
         "xaxis": "x",
         "y": [
          0.7692307692307693,
          0.7954545454545454,
          0.5932203389830508
         ],
         "yaxis": "y"
        },
        {
         "alignmentgroup": "True",
         "hovertemplate": "Model=Random Forest<br>Metrics=%{x}<br>Scores=%{y}<extra></extra>",
         "legendgroup": "Random Forest",
         "marker": {
          "color": "#00cc96",
          "pattern": {
           "shape": ""
          }
         },
         "name": "Random Forest",
         "offsetgroup": "Random Forest",
         "orientation": "v",
         "showlegend": true,
         "textposition": "auto",
         "type": "bar",
         "x": [
          "Accuracy",
          "Precision",
          "Recall"
         ],
         "xaxis": "x",
         "y": [
          0.7762237762237763,
          0.7755102040816326,
          0.6440677966101694
         ],
         "yaxis": "y"
        }
       ],
       "layout": {
        "barmode": "group",
        "legend": {
         "title": {
          "text": "Model"
         },
         "tracegroupgap": 0
        },
        "template": {
         "data": {
          "bar": [
           {
            "error_x": {
             "color": "#2a3f5f"
            },
            "error_y": {
             "color": "#2a3f5f"
            },
            "marker": {
             "line": {
              "color": "#E5ECF6",
              "width": 0.5
             },
             "pattern": {
              "fillmode": "overlay",
              "size": 10,
              "solidity": 0.2
             }
            },
            "type": "bar"
           }
          ],
          "barpolar": [
           {
            "marker": {
             "line": {
              "color": "#E5ECF6",
              "width": 0.5
             },
             "pattern": {
              "fillmode": "overlay",
              "size": 10,
              "solidity": 0.2
             }
            },
            "type": "barpolar"
           }
          ],
          "carpet": [
           {
            "aaxis": {
             "endlinecolor": "#2a3f5f",
             "gridcolor": "white",
             "linecolor": "white",
             "minorgridcolor": "white",
             "startlinecolor": "#2a3f5f"
            },
            "baxis": {
             "endlinecolor": "#2a3f5f",
             "gridcolor": "white",
             "linecolor": "white",
             "minorgridcolor": "white",
             "startlinecolor": "#2a3f5f"
            },
            "type": "carpet"
           }
          ],
          "choropleth": [
           {
            "colorbar": {
             "outlinewidth": 0,
             "ticks": ""
            },
            "type": "choropleth"
           }
          ],
          "contour": [
           {
            "colorbar": {
             "outlinewidth": 0,
             "ticks": ""
            },
            "colorscale": [
             [
              0,
              "#0d0887"
             ],
             [
              0.1111111111111111,
              "#46039f"
             ],
             [
              0.2222222222222222,
              "#7201a8"
             ],
             [
              0.3333333333333333,
              "#9c179e"
             ],
             [
              0.4444444444444444,
              "#bd3786"
             ],
             [
              0.5555555555555556,
              "#d8576b"
             ],
             [
              0.6666666666666666,
              "#ed7953"
             ],
             [
              0.7777777777777778,
              "#fb9f3a"
             ],
             [
              0.8888888888888888,
              "#fdca26"
             ],
             [
              1,
              "#f0f921"
             ]
            ],
            "type": "contour"
           }
          ],
          "contourcarpet": [
           {
            "colorbar": {
             "outlinewidth": 0,
             "ticks": ""
            },
            "type": "contourcarpet"
           }
          ],
          "heatmap": [
           {
            "colorbar": {
             "outlinewidth": 0,
             "ticks": ""
            },
            "colorscale": [
             [
              0,
              "#0d0887"
             ],
             [
              0.1111111111111111,
              "#46039f"
             ],
             [
              0.2222222222222222,
              "#7201a8"
             ],
             [
              0.3333333333333333,
              "#9c179e"
             ],
             [
              0.4444444444444444,
              "#bd3786"
             ],
             [
              0.5555555555555556,
              "#d8576b"
             ],
             [
              0.6666666666666666,
              "#ed7953"
             ],
             [
              0.7777777777777778,
              "#fb9f3a"
             ],
             [
              0.8888888888888888,
              "#fdca26"
             ],
             [
              1,
              "#f0f921"
             ]
            ],
            "type": "heatmap"
           }
          ],
          "heatmapgl": [
           {
            "colorbar": {
             "outlinewidth": 0,
             "ticks": ""
            },
            "colorscale": [
             [
              0,
              "#0d0887"
             ],
             [
              0.1111111111111111,
              "#46039f"
             ],
             [
              0.2222222222222222,
              "#7201a8"
             ],
             [
              0.3333333333333333,
              "#9c179e"
             ],
             [
              0.4444444444444444,
              "#bd3786"
             ],
             [
              0.5555555555555556,
              "#d8576b"
             ],
             [
              0.6666666666666666,
              "#ed7953"
             ],
             [
              0.7777777777777778,
              "#fb9f3a"
             ],
             [
              0.8888888888888888,
              "#fdca26"
             ],
             [
              1,
              "#f0f921"
             ]
            ],
            "type": "heatmapgl"
           }
          ],
          "histogram": [
           {
            "marker": {
             "pattern": {
              "fillmode": "overlay",
              "size": 10,
              "solidity": 0.2
             }
            },
            "type": "histogram"
           }
          ],
          "histogram2d": [
           {
            "colorbar": {
             "outlinewidth": 0,
             "ticks": ""
            },
            "colorscale": [
             [
              0,
              "#0d0887"
             ],
             [
              0.1111111111111111,
              "#46039f"
             ],
             [
              0.2222222222222222,
              "#7201a8"
             ],
             [
              0.3333333333333333,
              "#9c179e"
             ],
             [
              0.4444444444444444,
              "#bd3786"
             ],
             [
              0.5555555555555556,
              "#d8576b"
             ],
             [
              0.6666666666666666,
              "#ed7953"
             ],
             [
              0.7777777777777778,
              "#fb9f3a"
             ],
             [
              0.8888888888888888,
              "#fdca26"
             ],
             [
              1,
              "#f0f921"
             ]
            ],
            "type": "histogram2d"
           }
          ],
          "histogram2dcontour": [
           {
            "colorbar": {
             "outlinewidth": 0,
             "ticks": ""
            },
            "colorscale": [
             [
              0,
              "#0d0887"
             ],
             [
              0.1111111111111111,
              "#46039f"
             ],
             [
              0.2222222222222222,
              "#7201a8"
             ],
             [
              0.3333333333333333,
              "#9c179e"
             ],
             [
              0.4444444444444444,
              "#bd3786"
             ],
             [
              0.5555555555555556,
              "#d8576b"
             ],
             [
              0.6666666666666666,
              "#ed7953"
             ],
             [
              0.7777777777777778,
              "#fb9f3a"
             ],
             [
              0.8888888888888888,
              "#fdca26"
             ],
             [
              1,
              "#f0f921"
             ]
            ],
            "type": "histogram2dcontour"
           }
          ],
          "mesh3d": [
           {
            "colorbar": {
             "outlinewidth": 0,
             "ticks": ""
            },
            "type": "mesh3d"
           }
          ],
          "parcoords": [
           {
            "line": {
             "colorbar": {
              "outlinewidth": 0,
              "ticks": ""
             }
            },
            "type": "parcoords"
           }
          ],
          "pie": [
           {
            "automargin": true,
            "type": "pie"
           }
          ],
          "scatter": [
           {
            "fillpattern": {
             "fillmode": "overlay",
             "size": 10,
             "solidity": 0.2
            },
            "type": "scatter"
           }
          ],
          "scatter3d": [
           {
            "line": {
             "colorbar": {
              "outlinewidth": 0,
              "ticks": ""
             }
            },
            "marker": {
             "colorbar": {
              "outlinewidth": 0,
              "ticks": ""
             }
            },
            "type": "scatter3d"
           }
          ],
          "scattercarpet": [
           {
            "marker": {
             "colorbar": {
              "outlinewidth": 0,
              "ticks": ""
             }
            },
            "type": "scattercarpet"
           }
          ],
          "scattergeo": [
           {
            "marker": {
             "colorbar": {
              "outlinewidth": 0,
              "ticks": ""
             }
            },
            "type": "scattergeo"
           }
          ],
          "scattergl": [
           {
            "marker": {
             "colorbar": {
              "outlinewidth": 0,
              "ticks": ""
             }
            },
            "type": "scattergl"
           }
          ],
          "scattermapbox": [
           {
            "marker": {
             "colorbar": {
              "outlinewidth": 0,
              "ticks": ""
             }
            },
            "type": "scattermapbox"
           }
          ],
          "scatterpolar": [
           {
            "marker": {
             "colorbar": {
              "outlinewidth": 0,
              "ticks": ""
             }
            },
            "type": "scatterpolar"
           }
          ],
          "scatterpolargl": [
           {
            "marker": {
             "colorbar": {
              "outlinewidth": 0,
              "ticks": ""
             }
            },
            "type": "scatterpolargl"
           }
          ],
          "scatterternary": [
           {
            "marker": {
             "colorbar": {
              "outlinewidth": 0,
              "ticks": ""
             }
            },
            "type": "scatterternary"
           }
          ],
          "surface": [
           {
            "colorbar": {
             "outlinewidth": 0,
             "ticks": ""
            },
            "colorscale": [
             [
              0,
              "#0d0887"
             ],
             [
              0.1111111111111111,
              "#46039f"
             ],
             [
              0.2222222222222222,
              "#7201a8"
             ],
             [
              0.3333333333333333,
              "#9c179e"
             ],
             [
              0.4444444444444444,
              "#bd3786"
             ],
             [
              0.5555555555555556,
              "#d8576b"
             ],
             [
              0.6666666666666666,
              "#ed7953"
             ],
             [
              0.7777777777777778,
              "#fb9f3a"
             ],
             [
              0.8888888888888888,
              "#fdca26"
             ],
             [
              1,
              "#f0f921"
             ]
            ],
            "type": "surface"
           }
          ],
          "table": [
           {
            "cells": {
             "fill": {
              "color": "#EBF0F8"
             },
             "line": {
              "color": "white"
             }
            },
            "header": {
             "fill": {
              "color": "#C8D4E3"
             },
             "line": {
              "color": "white"
             }
            },
            "type": "table"
           }
          ]
         },
         "layout": {
          "annotationdefaults": {
           "arrowcolor": "#2a3f5f",
           "arrowhead": 0,
           "arrowwidth": 1
          },
          "autotypenumbers": "strict",
          "coloraxis": {
           "colorbar": {
            "outlinewidth": 0,
            "ticks": ""
           }
          },
          "colorscale": {
           "diverging": [
            [
             0,
             "#8e0152"
            ],
            [
             0.1,
             "#c51b7d"
            ],
            [
             0.2,
             "#de77ae"
            ],
            [
             0.3,
             "#f1b6da"
            ],
            [
             0.4,
             "#fde0ef"
            ],
            [
             0.5,
             "#f7f7f7"
            ],
            [
             0.6,
             "#e6f5d0"
            ],
            [
             0.7,
             "#b8e186"
            ],
            [
             0.8,
             "#7fbc41"
            ],
            [
             0.9,
             "#4d9221"
            ],
            [
             1,
             "#276419"
            ]
           ],
           "sequential": [
            [
             0,
             "#0d0887"
            ],
            [
             0.1111111111111111,
             "#46039f"
            ],
            [
             0.2222222222222222,
             "#7201a8"
            ],
            [
             0.3333333333333333,
             "#9c179e"
            ],
            [
             0.4444444444444444,
             "#bd3786"
            ],
            [
             0.5555555555555556,
             "#d8576b"
            ],
            [
             0.6666666666666666,
             "#ed7953"
            ],
            [
             0.7777777777777778,
             "#fb9f3a"
            ],
            [
             0.8888888888888888,
             "#fdca26"
            ],
            [
             1,
             "#f0f921"
            ]
           ],
           "sequentialminus": [
            [
             0,
             "#0d0887"
            ],
            [
             0.1111111111111111,
             "#46039f"
            ],
            [
             0.2222222222222222,
             "#7201a8"
            ],
            [
             0.3333333333333333,
             "#9c179e"
            ],
            [
             0.4444444444444444,
             "#bd3786"
            ],
            [
             0.5555555555555556,
             "#d8576b"
            ],
            [
             0.6666666666666666,
             "#ed7953"
            ],
            [
             0.7777777777777778,
             "#fb9f3a"
            ],
            [
             0.8888888888888888,
             "#fdca26"
            ],
            [
             1,
             "#f0f921"
            ]
           ]
          },
          "colorway": [
           "#636efa",
           "#EF553B",
           "#00cc96",
           "#ab63fa",
           "#FFA15A",
           "#19d3f3",
           "#FF6692",
           "#B6E880",
           "#FF97FF",
           "#FECB52"
          ],
          "font": {
           "color": "#2a3f5f"
          },
          "geo": {
           "bgcolor": "white",
           "lakecolor": "white",
           "landcolor": "#E5ECF6",
           "showlakes": true,
           "showland": true,
           "subunitcolor": "white"
          },
          "hoverlabel": {
           "align": "left"
          },
          "hovermode": "closest",
          "mapbox": {
           "style": "light"
          },
          "paper_bgcolor": "white",
          "plot_bgcolor": "#E5ECF6",
          "polar": {
           "angularaxis": {
            "gridcolor": "white",
            "linecolor": "white",
            "ticks": ""
           },
           "bgcolor": "#E5ECF6",
           "radialaxis": {
            "gridcolor": "white",
            "linecolor": "white",
            "ticks": ""
           }
          },
          "scene": {
           "xaxis": {
            "backgroundcolor": "#E5ECF6",
            "gridcolor": "white",
            "gridwidth": 2,
            "linecolor": "white",
            "showbackground": true,
            "ticks": "",
            "zerolinecolor": "white"
           },
           "yaxis": {
            "backgroundcolor": "#E5ECF6",
            "gridcolor": "white",
            "gridwidth": 2,
            "linecolor": "white",
            "showbackground": true,
            "ticks": "",
            "zerolinecolor": "white"
           },
           "zaxis": {
            "backgroundcolor": "#E5ECF6",
            "gridcolor": "white",
            "gridwidth": 2,
            "linecolor": "white",
            "showbackground": true,
            "ticks": "",
            "zerolinecolor": "white"
           }
          },
          "shapedefaults": {
           "line": {
            "color": "#2a3f5f"
           }
          },
          "ternary": {
           "aaxis": {
            "gridcolor": "white",
            "linecolor": "white",
            "ticks": ""
           },
           "baxis": {
            "gridcolor": "white",
            "linecolor": "white",
            "ticks": ""
           },
           "bgcolor": "#E5ECF6",
           "caxis": {
            "gridcolor": "white",
            "linecolor": "white",
            "ticks": ""
           }
          },
          "title": {
           "x": 0.05
          },
          "xaxis": {
           "automargin": true,
           "gridcolor": "white",
           "linecolor": "white",
           "ticks": "",
           "title": {
            "standoff": 15
           },
           "zerolinecolor": "white",
           "zerolinewidth": 2
          },
          "yaxis": {
           "automargin": true,
           "gridcolor": "white",
           "linecolor": "white",
           "ticks": "",
           "title": {
            "standoff": 15
           },
           "zerolinecolor": "white",
           "zerolinewidth": 2
          }
         }
        },
        "title": {
         "text": "Model Comparison: Logistic Regression vs Decision Tree vs Random Forest"
        },
        "xaxis": {
         "anchor": "y",
         "domain": [
          0,
          1
         ],
         "title": {
          "text": "Metrics"
         }
        },
        "yaxis": {
         "anchor": "x",
         "domain": [
          0,
          1
         ],
         "title": {
          "text": "Scores"
         }
        }
       }
      }
     },
     "metadata": {},
     "output_type": "display_data"
    }
   ],
   "source": [
    "import pandas as pd\n",
    "import plotly.express as px\n",
    "\n",
    "# Define models and their scores\n",
    "models = ['Logistic Regression', 'Decision Tree', 'Random Forest']\n",
    "metrics = ['Accuracy', 'Precision', 'Recall']\n",
    "\n",
    "# Scores for each model\n",
    "\n",
    "\n",
    "# Create the DataFrame\n",
    "data = {\n",
    "    'Model': (\n",
    "        ['Logistic Regression'] * len(metrics) +\n",
    "        ['Decision Tree'] * len(metrics) +\n",
    "        ['Random Forest'] * len(metrics)\n",
    "    ),\n",
    "    'Metric': metrics * len(models),\n",
    "    'Score': list(lr_scores) + list(dt_scores) + list(rf_scores)\n",
    "}\n",
    "\n",
    "df = pd.DataFrame(data)\n",
    "\n",
    "# Plotting\n",
    "fig = px.bar(df, x='Metric', y='Score', color='Model',\n",
    "             barmode='group', title='Model Comparison: Logistic Regression vs Decision Tree vs Random Forest',\n",
    "             labels={'Score': 'Scores', 'Metric': 'Metrics'})\n",
    "\n",
    "# Show the plot\n",
    "fig.show()\n"
   ]
  },
  {
   "cell_type": "code",
   "execution_count": null,
   "metadata": {},
   "outputs": [],
   "source": []
  }
 ],
 "metadata": {
  "kernelspec": {
   "display_name": ".venv",
   "language": "python",
   "name": "python3"
  },
  "language_info": {
   "codemirror_mode": {
    "name": "ipython",
    "version": 3
   },
   "file_extension": ".py",
   "mimetype": "text/x-python",
   "name": "python",
   "nbconvert_exporter": "python",
   "pygments_lexer": "ipython3",
   "version": "3.12.5"
  }
 },
 "nbformat": 4,
 "nbformat_minor": 2
}
