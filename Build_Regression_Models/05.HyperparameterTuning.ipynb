{
 "cells": [
  {
   "cell_type": "markdown",
   "metadata": {},
   "source": [
    "# Hyperparameter Tuning wiht GridSearch\n",
    "\n",
    "We're gonne perform hyperparametr tuning for four different regression models,\n",
    "\n",
    "`lasso`, `k-nn`, `Descision Tree` and `SVR`"
   ]
  },
  {
   "cell_type": "code",
   "execution_count": 7,
   "metadata": {},
   "outputs": [],
   "source": [
    "import pandas as pd\n",
    "import numpy as np\n",
    "import matplotlib.pyplot as plt\n",
    "\n",
    "from sklearn.model_selection import train_test_split,GridSearchCV\n",
    "from sklearn.metrics import r2_score\n",
    "from sklearn.preprocessing import StandardScaler\n",
    "\n",
    "from sklearn.linear_model import Lasso\n",
    "from sklearn.neighbors import KNeighborsRegressor\n",
    "from sklearn.tree import DecisionTreeRegressor\n",
    "from sklearn.svm import SVR\n",
    "\n",
    "import warnings\n",
    "warnings.filterwarnings('ignore')"
   ]
  },
  {
   "cell_type": "code",
   "execution_count": 5,
   "metadata": {},
   "outputs": [
    {
     "data": {
      "text/html": [
       "<div>\n",
       "<style scoped>\n",
       "    .dataframe tbody tr th:only-of-type {\n",
       "        vertical-align: middle;\n",
       "    }\n",
       "\n",
       "    .dataframe tbody tr th {\n",
       "        vertical-align: top;\n",
       "    }\n",
       "\n",
       "    .dataframe thead th {\n",
       "        text-align: right;\n",
       "    }\n",
       "</style>\n",
       "<table border=\"1\" class=\"dataframe\">\n",
       "  <thead>\n",
       "    <tr style=\"text-align: right;\">\n",
       "      <th></th>\n",
       "      <th>mpg</th>\n",
       "      <th>cylinders</th>\n",
       "      <th>displacement</th>\n",
       "      <th>horsepower</th>\n",
       "      <th>weight</th>\n",
       "      <th>acceleration</th>\n",
       "      <th>age</th>\n",
       "    </tr>\n",
       "  </thead>\n",
       "  <tbody>\n",
       "    <tr>\n",
       "      <th>0</th>\n",
       "      <td>23.0</td>\n",
       "      <td>4</td>\n",
       "      <td>120.0</td>\n",
       "      <td>97</td>\n",
       "      <td>2506</td>\n",
       "      <td>14.5</td>\n",
       "      <td>52</td>\n",
       "    </tr>\n",
       "    <tr>\n",
       "      <th>1</th>\n",
       "      <td>26.0</td>\n",
       "      <td>4</td>\n",
       "      <td>121.0</td>\n",
       "      <td>113</td>\n",
       "      <td>2234</td>\n",
       "      <td>12.5</td>\n",
       "      <td>54</td>\n",
       "    </tr>\n",
       "    <tr>\n",
       "      <th>2</th>\n",
       "      <td>15.0</td>\n",
       "      <td>8</td>\n",
       "      <td>400.0</td>\n",
       "      <td>150</td>\n",
       "      <td>3761</td>\n",
       "      <td>9.5</td>\n",
       "      <td>54</td>\n",
       "    </tr>\n",
       "    <tr>\n",
       "      <th>3</th>\n",
       "      <td>25.4</td>\n",
       "      <td>6</td>\n",
       "      <td>168.0</td>\n",
       "      <td>116</td>\n",
       "      <td>2900</td>\n",
       "      <td>12.6</td>\n",
       "      <td>43</td>\n",
       "    </tr>\n",
       "    <tr>\n",
       "      <th>4</th>\n",
       "      <td>19.0</td>\n",
       "      <td>6</td>\n",
       "      <td>250.0</td>\n",
       "      <td>88</td>\n",
       "      <td>3302</td>\n",
       "      <td>15.5</td>\n",
       "      <td>53</td>\n",
       "    </tr>\n",
       "  </tbody>\n",
       "</table>\n",
       "</div>"
      ],
      "text/plain": [
       "    mpg  cylinders  displacement  horsepower  weight  acceleration  age\n",
       "0  23.0          4         120.0          97    2506          14.5   52\n",
       "1  26.0          4         121.0         113    2234          12.5   54\n",
       "2  15.0          8         400.0         150    3761           9.5   54\n",
       "3  25.4          6         168.0         116    2900          12.6   43\n",
       "4  19.0          6         250.0          88    3302          15.5   53"
      ]
     },
     "execution_count": 5,
     "metadata": {},
     "output_type": "execute_result"
    }
   ],
   "source": [
    "automobile_df= pd.read_csv(\"datasets/auto-mpg-processed.csv\")\n",
    "automobile_df.head()"
   ]
  },
  {
   "cell_type": "code",
   "execution_count": 6,
   "metadata": {},
   "outputs": [],
   "source": [
    "X= automobile_df.drop(['mpg','age'],axis=1)\n",
    "Y= automobile_df['mpg']\n",
    "\n",
    "x_train, x_test, y_train, y_test= train_test_split(X,Y,test_size=0.2)"
   ]
  },
  {
   "cell_type": "markdown",
   "metadata": {},
   "source": [
    "## Lasso Hyperparameter tuning"
   ]
  },
  {
   "cell_type": "code",
   "execution_count": 10,
   "metadata": {},
   "outputs": [
    {
     "data": {
      "text/plain": [
       "{'alpha': 0.6}"
      ]
     },
     "execution_count": 10,
     "metadata": {},
     "output_type": "execute_result"
    }
   ],
   "source": [
    "parameters= {\n",
    "    'alpha':[0.2,0.4,0.6,0.8,0.9,1.0]\n",
    "}\n",
    "\n",
    "grid_search= GridSearchCV(Lasso(),parameters,cv=3,return_train_score=True)\n",
    "grid_search.fit(x_train,y_train)\n",
    "\n",
    "grid_search.best_params_"
   ]
  },
  {
   "cell_type": "code",
   "execution_count": 19,
   "metadata": {},
   "outputs": [
    {
     "name": "stdout",
     "output_type": "stream",
     "text": [
      "parameters {'alpha': 0.2}\n",
      "Mean Test Score 0.6884902891178344\n",
      "Rank 6\n",
      "_____________________________________\n",
      "parameters {'alpha': 0.4}\n",
      "Mean Test Score 0.6893661806747123\n",
      "Rank 4\n",
      "_____________________________________\n",
      "parameters {'alpha': 0.6}\n",
      "Mean Test Score 0.6894388817884547\n",
      "Rank 1\n",
      "_____________________________________\n",
      "parameters {'alpha': 0.8}\n",
      "Mean Test Score 0.6894050374868558\n",
      "Rank 2\n",
      "_____________________________________\n",
      "parameters {'alpha': 0.9}\n",
      "Mean Test Score 0.6893864563645629\n",
      "Rank 3\n",
      "_____________________________________\n",
      "parameters {'alpha': 1.0}\n",
      "Mean Test Score 0.6893658798663745\n",
      "Rank 5\n",
      "_____________________________________\n"
     ]
    }
   ],
   "source": [
    "for i in range(len(parameters['alpha'])):\n",
    "    print(\"parameters\", grid_search.cv_results_['params'][i])\n",
    "\n",
    "    print(\"Mean Test Score\",grid_search.cv_results_['mean_test_score'][i])\n",
    "\n",
    "    print(\"Rank\", grid_search.cv_results_['rank_test_score'][i])\n",
    "    print(\"_____________________________________\")"
   ]
  },
  {
   "cell_type": "code",
   "execution_count": 20,
   "metadata": {},
   "outputs": [],
   "source": [
    "lasso_model= Lasso(alpha=grid_search.best_params_['alpha']).fit(x_train,y_train)"
   ]
  },
  {
   "cell_type": "code",
   "execution_count": 23,
   "metadata": {},
   "outputs": [
    {
     "name": "stdout",
     "output_type": "stream",
     "text": [
      "Training Score 0.6964621473517141\n",
      "Testing Score 0.7400133287403656\n"
     ]
    }
   ],
   "source": [
    "y_pred= lasso_model.predict(x_test)\n",
    "\n",
    "print(\"Training Score\",lasso_model.score(x_train,y_train))\n",
    "print(\"Testing Score\",r2_score(y_test,y_pred))"
   ]
  },
  {
   "cell_type": "markdown",
   "metadata": {},
   "source": [
    "## K-nn Hyperparameter Tuning"
   ]
  },
  {
   "cell_type": "code",
   "execution_count": 30,
   "metadata": {},
   "outputs": [
    {
     "data": {
      "text/plain": [
       "{'n_neighbors': 30}"
      ]
     },
     "execution_count": 30,
     "metadata": {},
     "output_type": "execute_result"
    }
   ],
   "source": [
    "parameters={\n",
    "    'n_neighbors':[18,20,25,30,40,50]\n",
    "}\n",
    "\n",
    "grid_search= GridSearchCV(KNeighborsRegressor(),parameters,cv=3,return_train_score=True)\n",
    "grid_search.fit(x_train,y_train)\n",
    "\n",
    "grid_search.best_params_"
   ]
  },
  {
   "cell_type": "code",
   "execution_count": 31,
   "metadata": {},
   "outputs": [
    {
     "name": "stdout",
     "output_type": "stream",
     "text": [
      "parameters {'n_neighbors': 18}\n",
      "Mean Test Score 0.6845440081663421\n",
      "Rank 5\n",
      "parameters {'n_neighbors': 20}\n",
      "Mean Test Score 0.6859083005013741\n",
      "Rank 4\n",
      "parameters {'n_neighbors': 25}\n",
      "Mean Test Score 0.6876348718154649\n",
      "Rank 2\n",
      "parameters {'n_neighbors': 30}\n",
      "Mean Test Score 0.6900434937282345\n",
      "Rank 1\n",
      "parameters {'n_neighbors': 40}\n",
      "Mean Test Score 0.6862707937880698\n",
      "Rank 3\n",
      "parameters {'n_neighbors': 50}\n",
      "Mean Test Score 0.6819607904893233\n",
      "Rank 6\n"
     ]
    }
   ],
   "source": [
    "for i in range(len(parameters['n_neighbors'])):\n",
    "    print(\"parameters\", grid_search.cv_results_['params'][i])\n",
    "\n",
    "    print(\"Mean Test Score\",grid_search.cv_results_['mean_test_score'][i])\n",
    "\n",
    "    print(\"Rank\", grid_search.cv_results_['rank_test_score'][i])"
   ]
  },
  {
   "cell_type": "code",
   "execution_count": 32,
   "metadata": {},
   "outputs": [
    {
     "name": "stdout",
     "output_type": "stream",
     "text": [
      "Training Score 0.7072114608019875\n",
      "Testing Score 0.7874900720727686\n"
     ]
    }
   ],
   "source": [
    "knn_model= KNeighborsRegressor(n_neighbors=grid_search.best_params_['n_neighbors']).fit(x_train,y_train)\n",
    "y_pred= knn_model.predict(x_test)\n",
    "\n",
    "print(\"Training Score\",knn_model.score(x_train,y_train))\n",
    "print(\"Testing Score\",r2_score(y_test,y_pred))"
   ]
  },
  {
   "cell_type": "markdown",
   "metadata": {},
   "source": [
    "## Descision Tree Hyperparameter Tuning"
   ]
  },
  {
   "cell_type": "code",
   "execution_count": 33,
   "metadata": {},
   "outputs": [
    {
     "data": {
      "text/plain": [
       "{'max_depth': 2}"
      ]
     },
     "execution_count": 33,
     "metadata": {},
     "output_type": "execute_result"
    }
   ],
   "source": [
    "parameters={\n",
    "    'max_depth':[1,2,3,4,5,6,7,8]\n",
    "}\n",
    "\n",
    "grid_search= GridSearchCV(DecisionTreeRegressor(),parameters,cv=3,return_train_score=True)\n",
    "grid_search.fit(x_train,y_train)\n",
    "\n",
    "grid_search.best_params_"
   ]
  },
  {
   "cell_type": "code",
   "execution_count": 34,
   "metadata": {},
   "outputs": [
    {
     "name": "stdout",
     "output_type": "stream",
     "text": [
      "Training SCore  0.7199108781799126\n",
      "Testing Score :  0.7683849404497229\n"
     ]
    }
   ],
   "source": [
    "descition_tree_model= DecisionTreeRegressor(max_depth=grid_search.best_params_[\"max_depth\"]).fit(x_train,y_train)\n",
    "\n",
    "y_pred= descition_tree_model.predict(x_test)\n",
    "\n",
    "print(\"Training SCore \" , descition_tree_model.score(x_train,y_train))\n",
    "print(\"Testing Score : \", r2_score(y_test,y_pred))"
   ]
  },
  {
   "cell_type": "markdown",
   "metadata": {},
   "source": [
    "## SVR Hyperparameter tuning "
   ]
  },
  {
   "cell_type": "code",
   "execution_count": 39,
   "metadata": {},
   "outputs": [
    {
     "data": {
      "text/plain": [
       "{'C': 0.2, 'epsilon': 0.1}"
      ]
     },
     "execution_count": 39,
     "metadata": {},
     "output_type": "execute_result"
    }
   ],
   "source": [
    "parameters={\n",
    "    'epsilon':[0.05,0.1,0.2,0.3],\n",
    "    'C':[0.2,0.3]\n",
    "}\n",
    "\n",
    "grid_search= GridSearchCV(SVR(kernel='linear'),parameters,cv=3,return_train_score=True)\n",
    "grid_search.fit(x_train,y_train)\n",
    "\n",
    "grid_search.best_params_"
   ]
  },
  {
   "cell_type": "code",
   "execution_count": 40,
   "metadata": {},
   "outputs": [
    {
     "name": "stdout",
     "output_type": "stream",
     "text": [
      "Training Score : 0.6863810951051484\n",
      "Testing Score : 0.7248288238467355\n"
     ]
    }
   ],
   "source": [
    "svr_model= SVR(kernel='linear',epsilon=grid_search.best_params_[\"epsilon\"],C=grid_search.best_params_['C']).fit(x_train,y_train)\n",
    "\n",
    "y_pred= svr_model.predict(x_test)\n",
    "\n",
    "print(f'Training Score : {svr_model.score(x_train,y_train)}')\n",
    "print(f\"Testing Score : {r2_score(y_test,y_pred)}\")"
   ]
  }
 ],
 "metadata": {
  "kernelspec": {
   "display_name": ".venv",
   "language": "python",
   "name": "python3"
  },
  "language_info": {
   "codemirror_mode": {
    "name": "ipython",
    "version": 3
   },
   "file_extension": ".py",
   "mimetype": "text/x-python",
   "name": "python",
   "nbconvert_exporter": "python",
   "pygments_lexer": "ipython3",
   "version": "3.12.5"
  }
 },
 "nbformat": 4,
 "nbformat_minor": 2
}
