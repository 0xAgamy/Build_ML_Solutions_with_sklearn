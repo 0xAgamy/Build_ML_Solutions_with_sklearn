{
 "cells": [
  {
   "cell_type": "markdown",
   "metadata": {},
   "source": [
    "# RBM Unsupervised Dimensionality Reduction "
   ]
  },
  {
   "cell_type": "code",
   "execution_count": 1,
   "metadata": {},
   "outputs": [],
   "source": [
    "import pandas as pd \n",
    "import numpy as np\n",
    "import matplotlib.pyplot as plt\n",
    "\n",
    "from sklearn import linear_model , metrics\n",
    "from sklearn.model_selection import train_test_split\n",
    "\n",
    "from sklearn.neural_network import BernoulliRBM\n",
    "\n",
    "from sklearn.pipeline import Pipeline\n",
    "from sklearn.base import clone\n",
    "\n"
   ]
  },
  {
   "cell_type": "markdown",
   "metadata": {},
   "source": [
    "## load dataset"
   ]
  },
  {
   "cell_type": "code",
   "execution_count": 2,
   "metadata": {},
   "outputs": [],
   "source": [
    "from sklearn.datasets import fetch_openml\n",
    "\n",
    "# Load the MNIST dataset\n",
    "mnist = fetch_openml(\"mnist_784\", version=1)\n",
    "\n",
    "X, y = mnist[\"data\"], mnist[\"target\"]\n",
    "\n",
    "y = y.astype(int)\n",
    "\n",
    "mnist_df = pd.DataFrame(X)\n",
    "mnist_df['target'] = y\n"
   ]
  },
  {
   "cell_type": "code",
   "execution_count": 3,
   "metadata": {},
   "outputs": [
    {
     "data": {
      "text/html": [
       "<div>\n",
       "<style scoped>\n",
       "    .dataframe tbody tr th:only-of-type {\n",
       "        vertical-align: middle;\n",
       "    }\n",
       "\n",
       "    .dataframe tbody tr th {\n",
       "        vertical-align: top;\n",
       "    }\n",
       "\n",
       "    .dataframe thead th {\n",
       "        text-align: right;\n",
       "    }\n",
       "</style>\n",
       "<table border=\"1\" class=\"dataframe\">\n",
       "  <thead>\n",
       "    <tr style=\"text-align: right;\">\n",
       "      <th></th>\n",
       "      <th>pixel1</th>\n",
       "      <th>pixel2</th>\n",
       "      <th>pixel3</th>\n",
       "      <th>pixel4</th>\n",
       "      <th>pixel5</th>\n",
       "      <th>pixel6</th>\n",
       "      <th>pixel7</th>\n",
       "      <th>pixel8</th>\n",
       "      <th>pixel9</th>\n",
       "      <th>pixel10</th>\n",
       "      <th>...</th>\n",
       "      <th>pixel776</th>\n",
       "      <th>pixel777</th>\n",
       "      <th>pixel778</th>\n",
       "      <th>pixel779</th>\n",
       "      <th>pixel780</th>\n",
       "      <th>pixel781</th>\n",
       "      <th>pixel782</th>\n",
       "      <th>pixel783</th>\n",
       "      <th>pixel784</th>\n",
       "      <th>target</th>\n",
       "    </tr>\n",
       "  </thead>\n",
       "  <tbody>\n",
       "    <tr>\n",
       "      <th>0</th>\n",
       "      <td>0</td>\n",
       "      <td>0</td>\n",
       "      <td>0</td>\n",
       "      <td>0</td>\n",
       "      <td>0</td>\n",
       "      <td>0</td>\n",
       "      <td>0</td>\n",
       "      <td>0</td>\n",
       "      <td>0</td>\n",
       "      <td>0</td>\n",
       "      <td>...</td>\n",
       "      <td>0</td>\n",
       "      <td>0</td>\n",
       "      <td>0</td>\n",
       "      <td>0</td>\n",
       "      <td>0</td>\n",
       "      <td>0</td>\n",
       "      <td>0</td>\n",
       "      <td>0</td>\n",
       "      <td>0</td>\n",
       "      <td>5</td>\n",
       "    </tr>\n",
       "    <tr>\n",
       "      <th>1</th>\n",
       "      <td>0</td>\n",
       "      <td>0</td>\n",
       "      <td>0</td>\n",
       "      <td>0</td>\n",
       "      <td>0</td>\n",
       "      <td>0</td>\n",
       "      <td>0</td>\n",
       "      <td>0</td>\n",
       "      <td>0</td>\n",
       "      <td>0</td>\n",
       "      <td>...</td>\n",
       "      <td>0</td>\n",
       "      <td>0</td>\n",
       "      <td>0</td>\n",
       "      <td>0</td>\n",
       "      <td>0</td>\n",
       "      <td>0</td>\n",
       "      <td>0</td>\n",
       "      <td>0</td>\n",
       "      <td>0</td>\n",
       "      <td>0</td>\n",
       "    </tr>\n",
       "    <tr>\n",
       "      <th>2</th>\n",
       "      <td>0</td>\n",
       "      <td>0</td>\n",
       "      <td>0</td>\n",
       "      <td>0</td>\n",
       "      <td>0</td>\n",
       "      <td>0</td>\n",
       "      <td>0</td>\n",
       "      <td>0</td>\n",
       "      <td>0</td>\n",
       "      <td>0</td>\n",
       "      <td>...</td>\n",
       "      <td>0</td>\n",
       "      <td>0</td>\n",
       "      <td>0</td>\n",
       "      <td>0</td>\n",
       "      <td>0</td>\n",
       "      <td>0</td>\n",
       "      <td>0</td>\n",
       "      <td>0</td>\n",
       "      <td>0</td>\n",
       "      <td>4</td>\n",
       "    </tr>\n",
       "    <tr>\n",
       "      <th>3</th>\n",
       "      <td>0</td>\n",
       "      <td>0</td>\n",
       "      <td>0</td>\n",
       "      <td>0</td>\n",
       "      <td>0</td>\n",
       "      <td>0</td>\n",
       "      <td>0</td>\n",
       "      <td>0</td>\n",
       "      <td>0</td>\n",
       "      <td>0</td>\n",
       "      <td>...</td>\n",
       "      <td>0</td>\n",
       "      <td>0</td>\n",
       "      <td>0</td>\n",
       "      <td>0</td>\n",
       "      <td>0</td>\n",
       "      <td>0</td>\n",
       "      <td>0</td>\n",
       "      <td>0</td>\n",
       "      <td>0</td>\n",
       "      <td>1</td>\n",
       "    </tr>\n",
       "    <tr>\n",
       "      <th>4</th>\n",
       "      <td>0</td>\n",
       "      <td>0</td>\n",
       "      <td>0</td>\n",
       "      <td>0</td>\n",
       "      <td>0</td>\n",
       "      <td>0</td>\n",
       "      <td>0</td>\n",
       "      <td>0</td>\n",
       "      <td>0</td>\n",
       "      <td>0</td>\n",
       "      <td>...</td>\n",
       "      <td>0</td>\n",
       "      <td>0</td>\n",
       "      <td>0</td>\n",
       "      <td>0</td>\n",
       "      <td>0</td>\n",
       "      <td>0</td>\n",
       "      <td>0</td>\n",
       "      <td>0</td>\n",
       "      <td>0</td>\n",
       "      <td>9</td>\n",
       "    </tr>\n",
       "  </tbody>\n",
       "</table>\n",
       "<p>5 rows × 785 columns</p>\n",
       "</div>"
      ],
      "text/plain": [
       "   pixel1  pixel2  pixel3  pixel4  pixel5  pixel6  pixel7  pixel8  pixel9  \\\n",
       "0       0       0       0       0       0       0       0       0       0   \n",
       "1       0       0       0       0       0       0       0       0       0   \n",
       "2       0       0       0       0       0       0       0       0       0   \n",
       "3       0       0       0       0       0       0       0       0       0   \n",
       "4       0       0       0       0       0       0       0       0       0   \n",
       "\n",
       "   pixel10  ...  pixel776  pixel777  pixel778  pixel779  pixel780  pixel781  \\\n",
       "0        0  ...         0         0         0         0         0         0   \n",
       "1        0  ...         0         0         0         0         0         0   \n",
       "2        0  ...         0         0         0         0         0         0   \n",
       "3        0  ...         0         0         0         0         0         0   \n",
       "4        0  ...         0         0         0         0         0         0   \n",
       "\n",
       "   pixel782  pixel783  pixel784  target  \n",
       "0         0         0         0       5  \n",
       "1         0         0         0       0  \n",
       "2         0         0         0       4  \n",
       "3         0         0         0       1  \n",
       "4         0         0         0       9  \n",
       "\n",
       "[5 rows x 785 columns]"
      ]
     },
     "execution_count": 3,
     "metadata": {},
     "output_type": "execute_result"
    }
   ],
   "source": [
    "mnist_df.head()"
   ]
  },
  {
   "cell_type": "code",
   "execution_count": 4,
   "metadata": {},
   "outputs": [
    {
     "data": {
      "text/plain": [
       "(70000, 785)"
      ]
     },
     "execution_count": 4,
     "metadata": {},
     "output_type": "execute_result"
    }
   ],
   "source": [
    "mnist_df.shape"
   ]
  },
  {
   "cell_type": "code",
   "execution_count": 5,
   "metadata": {},
   "outputs": [
    {
     "data": {
      "text/plain": [
       "[np.int64(0),\n",
       " np.int64(1),\n",
       " np.int64(2),\n",
       " np.int64(3),\n",
       " np.int64(4),\n",
       " np.int64(5),\n",
       " np.int64(6),\n",
       " np.int64(7),\n",
       " np.int64(8),\n",
       " np.int64(9)]"
      ]
     },
     "execution_count": 5,
     "metadata": {},
     "output_type": "execute_result"
    }
   ],
   "source": [
    "sorted(mnist_df['target'].unique())"
   ]
  },
  {
   "cell_type": "code",
   "execution_count": 6,
   "metadata": {},
   "outputs": [
    {
     "data": {
      "text/plain": [
       "Index(['pixel1', 'pixel2', 'pixel3', 'pixel4', 'pixel5', 'pixel6', 'pixel7',\n",
       "       'pixel8', 'pixel9', 'pixel10',\n",
       "       ...\n",
       "       'pixel776', 'pixel777', 'pixel778', 'pixel779', 'pixel780', 'pixel781',\n",
       "       'pixel782', 'pixel783', 'pixel784', 'target'],\n",
       "      dtype='object', length=785)"
      ]
     },
     "execution_count": 6,
     "metadata": {},
     "output_type": "execute_result"
    }
   ],
   "source": [
    "mnist_df.columns"
   ]
  },
  {
   "cell_type": "code",
   "execution_count": 7,
   "metadata": {},
   "outputs": [
    {
     "data": {
      "text/html": [
       "<div>\n",
       "<style scoped>\n",
       "    .dataframe tbody tr th:only-of-type {\n",
       "        vertical-align: middle;\n",
       "    }\n",
       "\n",
       "    .dataframe tbody tr th {\n",
       "        vertical-align: top;\n",
       "    }\n",
       "\n",
       "    .dataframe thead th {\n",
       "        text-align: right;\n",
       "    }\n",
       "</style>\n",
       "<table border=\"1\" class=\"dataframe\">\n",
       "  <thead>\n",
       "    <tr style=\"text-align: right;\">\n",
       "      <th></th>\n",
       "      <th>pixel1</th>\n",
       "      <th>pixel2</th>\n",
       "      <th>pixel3</th>\n",
       "      <th>pixel4</th>\n",
       "      <th>pixel5</th>\n",
       "      <th>pixel6</th>\n",
       "      <th>pixel7</th>\n",
       "      <th>pixel8</th>\n",
       "      <th>pixel9</th>\n",
       "      <th>pixel10</th>\n",
       "      <th>...</th>\n",
       "      <th>pixel775</th>\n",
       "      <th>pixel776</th>\n",
       "      <th>pixel777</th>\n",
       "      <th>pixel778</th>\n",
       "      <th>pixel779</th>\n",
       "      <th>pixel780</th>\n",
       "      <th>pixel781</th>\n",
       "      <th>pixel782</th>\n",
       "      <th>pixel783</th>\n",
       "      <th>pixel784</th>\n",
       "    </tr>\n",
       "  </thead>\n",
       "  <tbody>\n",
       "    <tr>\n",
       "      <th>0</th>\n",
       "      <td>0</td>\n",
       "      <td>0</td>\n",
       "      <td>0</td>\n",
       "      <td>0</td>\n",
       "      <td>0</td>\n",
       "      <td>0</td>\n",
       "      <td>0</td>\n",
       "      <td>0</td>\n",
       "      <td>0</td>\n",
       "      <td>0</td>\n",
       "      <td>...</td>\n",
       "      <td>0</td>\n",
       "      <td>0</td>\n",
       "      <td>0</td>\n",
       "      <td>0</td>\n",
       "      <td>0</td>\n",
       "      <td>0</td>\n",
       "      <td>0</td>\n",
       "      <td>0</td>\n",
       "      <td>0</td>\n",
       "      <td>0</td>\n",
       "    </tr>\n",
       "    <tr>\n",
       "      <th>1</th>\n",
       "      <td>0</td>\n",
       "      <td>0</td>\n",
       "      <td>0</td>\n",
       "      <td>0</td>\n",
       "      <td>0</td>\n",
       "      <td>0</td>\n",
       "      <td>0</td>\n",
       "      <td>0</td>\n",
       "      <td>0</td>\n",
       "      <td>0</td>\n",
       "      <td>...</td>\n",
       "      <td>0</td>\n",
       "      <td>0</td>\n",
       "      <td>0</td>\n",
       "      <td>0</td>\n",
       "      <td>0</td>\n",
       "      <td>0</td>\n",
       "      <td>0</td>\n",
       "      <td>0</td>\n",
       "      <td>0</td>\n",
       "      <td>0</td>\n",
       "    </tr>\n",
       "    <tr>\n",
       "      <th>2</th>\n",
       "      <td>0</td>\n",
       "      <td>0</td>\n",
       "      <td>0</td>\n",
       "      <td>0</td>\n",
       "      <td>0</td>\n",
       "      <td>0</td>\n",
       "      <td>0</td>\n",
       "      <td>0</td>\n",
       "      <td>0</td>\n",
       "      <td>0</td>\n",
       "      <td>...</td>\n",
       "      <td>0</td>\n",
       "      <td>0</td>\n",
       "      <td>0</td>\n",
       "      <td>0</td>\n",
       "      <td>0</td>\n",
       "      <td>0</td>\n",
       "      <td>0</td>\n",
       "      <td>0</td>\n",
       "      <td>0</td>\n",
       "      <td>0</td>\n",
       "    </tr>\n",
       "    <tr>\n",
       "      <th>3</th>\n",
       "      <td>0</td>\n",
       "      <td>0</td>\n",
       "      <td>0</td>\n",
       "      <td>0</td>\n",
       "      <td>0</td>\n",
       "      <td>0</td>\n",
       "      <td>0</td>\n",
       "      <td>0</td>\n",
       "      <td>0</td>\n",
       "      <td>0</td>\n",
       "      <td>...</td>\n",
       "      <td>0</td>\n",
       "      <td>0</td>\n",
       "      <td>0</td>\n",
       "      <td>0</td>\n",
       "      <td>0</td>\n",
       "      <td>0</td>\n",
       "      <td>0</td>\n",
       "      <td>0</td>\n",
       "      <td>0</td>\n",
       "      <td>0</td>\n",
       "    </tr>\n",
       "    <tr>\n",
       "      <th>4</th>\n",
       "      <td>0</td>\n",
       "      <td>0</td>\n",
       "      <td>0</td>\n",
       "      <td>0</td>\n",
       "      <td>0</td>\n",
       "      <td>0</td>\n",
       "      <td>0</td>\n",
       "      <td>0</td>\n",
       "      <td>0</td>\n",
       "      <td>0</td>\n",
       "      <td>...</td>\n",
       "      <td>0</td>\n",
       "      <td>0</td>\n",
       "      <td>0</td>\n",
       "      <td>0</td>\n",
       "      <td>0</td>\n",
       "      <td>0</td>\n",
       "      <td>0</td>\n",
       "      <td>0</td>\n",
       "      <td>0</td>\n",
       "      <td>0</td>\n",
       "    </tr>\n",
       "    <tr>\n",
       "      <th>...</th>\n",
       "      <td>...</td>\n",
       "      <td>...</td>\n",
       "      <td>...</td>\n",
       "      <td>...</td>\n",
       "      <td>...</td>\n",
       "      <td>...</td>\n",
       "      <td>...</td>\n",
       "      <td>...</td>\n",
       "      <td>...</td>\n",
       "      <td>...</td>\n",
       "      <td>...</td>\n",
       "      <td>...</td>\n",
       "      <td>...</td>\n",
       "      <td>...</td>\n",
       "      <td>...</td>\n",
       "      <td>...</td>\n",
       "      <td>...</td>\n",
       "      <td>...</td>\n",
       "      <td>...</td>\n",
       "      <td>...</td>\n",
       "      <td>...</td>\n",
       "    </tr>\n",
       "    <tr>\n",
       "      <th>69995</th>\n",
       "      <td>0</td>\n",
       "      <td>0</td>\n",
       "      <td>0</td>\n",
       "      <td>0</td>\n",
       "      <td>0</td>\n",
       "      <td>0</td>\n",
       "      <td>0</td>\n",
       "      <td>0</td>\n",
       "      <td>0</td>\n",
       "      <td>0</td>\n",
       "      <td>...</td>\n",
       "      <td>0</td>\n",
       "      <td>0</td>\n",
       "      <td>0</td>\n",
       "      <td>0</td>\n",
       "      <td>0</td>\n",
       "      <td>0</td>\n",
       "      <td>0</td>\n",
       "      <td>0</td>\n",
       "      <td>0</td>\n",
       "      <td>0</td>\n",
       "    </tr>\n",
       "    <tr>\n",
       "      <th>69996</th>\n",
       "      <td>0</td>\n",
       "      <td>0</td>\n",
       "      <td>0</td>\n",
       "      <td>0</td>\n",
       "      <td>0</td>\n",
       "      <td>0</td>\n",
       "      <td>0</td>\n",
       "      <td>0</td>\n",
       "      <td>0</td>\n",
       "      <td>0</td>\n",
       "      <td>...</td>\n",
       "      <td>0</td>\n",
       "      <td>0</td>\n",
       "      <td>0</td>\n",
       "      <td>0</td>\n",
       "      <td>0</td>\n",
       "      <td>0</td>\n",
       "      <td>0</td>\n",
       "      <td>0</td>\n",
       "      <td>0</td>\n",
       "      <td>0</td>\n",
       "    </tr>\n",
       "    <tr>\n",
       "      <th>69997</th>\n",
       "      <td>0</td>\n",
       "      <td>0</td>\n",
       "      <td>0</td>\n",
       "      <td>0</td>\n",
       "      <td>0</td>\n",
       "      <td>0</td>\n",
       "      <td>0</td>\n",
       "      <td>0</td>\n",
       "      <td>0</td>\n",
       "      <td>0</td>\n",
       "      <td>...</td>\n",
       "      <td>0</td>\n",
       "      <td>0</td>\n",
       "      <td>0</td>\n",
       "      <td>0</td>\n",
       "      <td>0</td>\n",
       "      <td>0</td>\n",
       "      <td>0</td>\n",
       "      <td>0</td>\n",
       "      <td>0</td>\n",
       "      <td>0</td>\n",
       "    </tr>\n",
       "    <tr>\n",
       "      <th>69998</th>\n",
       "      <td>0</td>\n",
       "      <td>0</td>\n",
       "      <td>0</td>\n",
       "      <td>0</td>\n",
       "      <td>0</td>\n",
       "      <td>0</td>\n",
       "      <td>0</td>\n",
       "      <td>0</td>\n",
       "      <td>0</td>\n",
       "      <td>0</td>\n",
       "      <td>...</td>\n",
       "      <td>0</td>\n",
       "      <td>0</td>\n",
       "      <td>0</td>\n",
       "      <td>0</td>\n",
       "      <td>0</td>\n",
       "      <td>0</td>\n",
       "      <td>0</td>\n",
       "      <td>0</td>\n",
       "      <td>0</td>\n",
       "      <td>0</td>\n",
       "    </tr>\n",
       "    <tr>\n",
       "      <th>69999</th>\n",
       "      <td>0</td>\n",
       "      <td>0</td>\n",
       "      <td>0</td>\n",
       "      <td>0</td>\n",
       "      <td>0</td>\n",
       "      <td>0</td>\n",
       "      <td>0</td>\n",
       "      <td>0</td>\n",
       "      <td>0</td>\n",
       "      <td>0</td>\n",
       "      <td>...</td>\n",
       "      <td>0</td>\n",
       "      <td>0</td>\n",
       "      <td>0</td>\n",
       "      <td>0</td>\n",
       "      <td>0</td>\n",
       "      <td>0</td>\n",
       "      <td>0</td>\n",
       "      <td>0</td>\n",
       "      <td>0</td>\n",
       "      <td>0</td>\n",
       "    </tr>\n",
       "  </tbody>\n",
       "</table>\n",
       "<p>70000 rows × 784 columns</p>\n",
       "</div>"
      ],
      "text/plain": [
       "       pixel1  pixel2  pixel3  pixel4  pixel5  pixel6  pixel7  pixel8  pixel9  \\\n",
       "0           0       0       0       0       0       0       0       0       0   \n",
       "1           0       0       0       0       0       0       0       0       0   \n",
       "2           0       0       0       0       0       0       0       0       0   \n",
       "3           0       0       0       0       0       0       0       0       0   \n",
       "4           0       0       0       0       0       0       0       0       0   \n",
       "...       ...     ...     ...     ...     ...     ...     ...     ...     ...   \n",
       "69995       0       0       0       0       0       0       0       0       0   \n",
       "69996       0       0       0       0       0       0       0       0       0   \n",
       "69997       0       0       0       0       0       0       0       0       0   \n",
       "69998       0       0       0       0       0       0       0       0       0   \n",
       "69999       0       0       0       0       0       0       0       0       0   \n",
       "\n",
       "       pixel10  ...  pixel775  pixel776  pixel777  pixel778  pixel779  \\\n",
       "0            0  ...         0         0         0         0         0   \n",
       "1            0  ...         0         0         0         0         0   \n",
       "2            0  ...         0         0         0         0         0   \n",
       "3            0  ...         0         0         0         0         0   \n",
       "4            0  ...         0         0         0         0         0   \n",
       "...        ...  ...       ...       ...       ...       ...       ...   \n",
       "69995        0  ...         0         0         0         0         0   \n",
       "69996        0  ...         0         0         0         0         0   \n",
       "69997        0  ...         0         0         0         0         0   \n",
       "69998        0  ...         0         0         0         0         0   \n",
       "69999        0  ...         0         0         0         0         0   \n",
       "\n",
       "       pixel780  pixel781  pixel782  pixel783  pixel784  \n",
       "0             0         0         0         0         0  \n",
       "1             0         0         0         0         0  \n",
       "2             0         0         0         0         0  \n",
       "3             0         0         0         0         0  \n",
       "4             0         0         0         0         0  \n",
       "...         ...       ...       ...       ...       ...  \n",
       "69995         0         0         0         0         0  \n",
       "69996         0         0         0         0         0  \n",
       "69997         0         0         0         0         0  \n",
       "69998         0         0         0         0         0  \n",
       "69999         0         0         0         0         0  \n",
       "\n",
       "[70000 rows x 784 columns]"
      ]
     },
     "execution_count": 7,
     "metadata": {},
     "output_type": "execute_result"
    }
   ],
   "source": [
    "mnist_features= mnist_df.drop('target',axis=1)\n",
    "mnist_features"
   ]
  },
  {
   "cell_type": "code",
   "execution_count": 8,
   "metadata": {},
   "outputs": [
    {
     "data": {
      "text/plain": [
       "0        5\n",
       "1        0\n",
       "2        4\n",
       "3        1\n",
       "4        9\n",
       "        ..\n",
       "69995    2\n",
       "69996    3\n",
       "69997    4\n",
       "69998    5\n",
       "69999    6\n",
       "Name: target, Length: 70000, dtype: int64"
      ]
     },
     "execution_count": 8,
     "metadata": {},
     "output_type": "execute_result"
    }
   ],
   "source": [
    "mnist_label=mnist_df['target']\n",
    "mnist_label"
   ]
  },
  {
   "cell_type": "code",
   "execution_count": 9,
   "metadata": {},
   "outputs": [],
   "source": [
    "def display_image(index):\n",
    "    print(\"Digit\", mnist_label[index])\n",
    "\n",
    "    plt.imshow(mnist_features.loc[index].values.reshape(28,28),cmap=\"Greys\")"
   ]
  },
  {
   "cell_type": "code",
   "execution_count": 10,
   "metadata": {},
   "outputs": [
    {
     "name": "stdout",
     "output_type": "stream",
     "text": [
      "Digit 4\n"
     ]
    },
    {
     "data": {
      "image/png": "[encoded data removed]",
      "text/plain": [
       "<Figure size 640x480 with 1 Axes>"
      ]
     },
     "metadata": {},
     "output_type": "display_data"
    }
   ],
   "source": [
    "display_image(2)"
   ]
  },
  {
   "cell_type": "code",
   "execution_count": 11,
   "metadata": {},
   "outputs": [
    {
     "data": {
      "text/plain": [
       "(70000, 784)"
      ]
     },
     "execution_count": 11,
     "metadata": {},
     "output_type": "execute_result"
    }
   ],
   "source": [
    "mnist_features= np.array(mnist_features)\n",
    "mnist_features.shape"
   ]
  },
  {
   "cell_type": "markdown",
   "metadata": {},
   "source": [
    "## Tranin a Classifier on all features of the input data"
   ]
  },
  {
   "cell_type": "code",
   "execution_count": 12,
   "metadata": {},
   "outputs": [],
   "source": [
    "x_train, x_test, y_train, y_test= train_test_split(mnist_features,\n",
    "                                                   mnist_label,\n",
    "                                                   shuffle=True,\n",
    "                                                   test_size=0.2)"
   ]
  },
  {
   "cell_type": "code",
   "execution_count": 13,
   "metadata": {},
   "outputs": [],
   "source": [
    "logistic= linear_model.LogisticRegression(solver='lbfgs',\n",
    "                                          max_iter=1000,\n",
    "                                          multi_class='multinomial')"
   ]
  },
  {
   "cell_type": "code",
   "execution_count": 14,
   "metadata": {},
   "outputs": [
    {
     "name": "stderr",
     "output_type": "stream",
     "text": [
      "/run/media/agamy/46D4670CD466FD95/Project/AI/Build_ML_Solutions_with_sklearn/.venv/lib64/python3.13/site-packages/sklearn/linear_model/_logistic.py:1247: FutureWarning: 'multi_class' was deprecated in version 1.5 and will be removed in 1.7. From then on, it will always use 'multinomial'. Leave it to its default value to avoid this warning.\n",
      "  warnings.warn(\n",
      "/run/media/agamy/46D4670CD466FD95/Project/AI/Build_ML_Solutions_with_sklearn/.venv/lib64/python3.13/site-packages/sklearn/linear_model/_logistic.py:469: ConvergenceWarning: lbfgs failed to converge (status=1):\n",
      "STOP: TOTAL NO. of ITERATIONS REACHED LIMIT.\n",
      "\n",
      "Increase the number of iterations (max_iter) or scale the data as shown in:\n",
      "    https://scikit-learn.org/stable/modules/preprocessing.html\n",
      "Please also refer to the documentation for alternative solver options:\n",
      "    https://scikit-learn.org/stable/modules/linear_model.html#logistic-regression\n",
      "  n_iter_i = _check_optimize_result(\n",
      "/run/media/agamy/46D4670CD466FD95/Project/AI/Build_ML_Solutions_with_sklearn/.venv/lib64/python3.13/site-packages/sklearn/linear_model/_logistic.py:1247: FutureWarning: 'multi_class' was deprecated in version 1.5 and will be removed in 1.7. From then on, it will always use 'multinomial'. Leave it to its default value to avoid this warning.\n",
      "  warnings.warn(\n",
      "/run/media/agamy/46D4670CD466FD95/Project/AI/Build_ML_Solutions_with_sklearn/.venv/lib64/python3.13/site-packages/sklearn/linear_model/_logistic.py:469: ConvergenceWarning: lbfgs failed to converge (status=1):\n",
      "STOP: TOTAL NO. of ITERATIONS REACHED LIMIT.\n",
      "\n",
      "Increase the number of iterations (max_iter) or scale the data as shown in:\n",
      "    https://scikit-learn.org/stable/modules/preprocessing.html\n",
      "Please also refer to the documentation for alternative solver options:\n",
      "    https://scikit-learn.org/stable/modules/linear_model.html#logistic-regression\n",
      "  n_iter_i = _check_optimize_result(\n",
      "/run/media/agamy/46D4670CD466FD95/Project/AI/Build_ML_Solutions_with_sklearn/.venv/lib64/python3.13/site-packages/sklearn/linear_model/_logistic.py:1247: FutureWarning: 'multi_class' was deprecated in version 1.5 and will be removed in 1.7. From then on, it will always use 'multinomial'. Leave it to its default value to avoid this warning.\n",
      "  warnings.warn(\n",
      "/run/media/agamy/46D4670CD466FD95/Project/AI/Build_ML_Solutions_with_sklearn/.venv/lib64/python3.13/site-packages/sklearn/linear_model/_logistic.py:469: ConvergenceWarning: lbfgs failed to converge (status=1):\n",
      "STOP: TOTAL NO. of ITERATIONS REACHED LIMIT.\n",
      "\n",
      "Increase the number of iterations (max_iter) or scale the data as shown in:\n",
      "    https://scikit-learn.org/stable/modules/preprocessing.html\n",
      "Please also refer to the documentation for alternative solver options:\n",
      "    https://scikit-learn.org/stable/modules/linear_model.html#logistic-regression\n",
      "  n_iter_i = _check_optimize_result(\n",
      "/run/media/agamy/46D4670CD466FD95/Project/AI/Build_ML_Solutions_with_sklearn/.venv/lib64/python3.13/site-packages/sklearn/linear_model/_logistic.py:1247: FutureWarning: 'multi_class' was deprecated in version 1.5 and will be removed in 1.7. From then on, it will always use 'multinomial'. Leave it to its default value to avoid this warning.\n",
      "  warnings.warn(\n",
      "/run/media/agamy/46D4670CD466FD95/Project/AI/Build_ML_Solutions_with_sklearn/.venv/lib64/python3.13/site-packages/sklearn/linear_model/_logistic.py:469: ConvergenceWarning: lbfgs failed to converge (status=1):\n",
      "STOP: TOTAL NO. of ITERATIONS REACHED LIMIT.\n",
      "\n",
      "Increase the number of iterations (max_iter) or scale the data as shown in:\n",
      "    https://scikit-learn.org/stable/modules/preprocessing.html\n",
      "Please also refer to the documentation for alternative solver options:\n",
      "    https://scikit-learn.org/stable/modules/linear_model.html#logistic-regression\n",
      "  n_iter_i = _check_optimize_result(\n",
      "/run/media/agamy/46D4670CD466FD95/Project/AI/Build_ML_Solutions_with_sklearn/.venv/lib64/python3.13/site-packages/sklearn/linear_model/_logistic.py:1247: FutureWarning: 'multi_class' was deprecated in version 1.5 and will be removed in 1.7. From then on, it will always use 'multinomial'. Leave it to its default value to avoid this warning.\n",
      "  warnings.warn(\n",
      "/run/media/agamy/46D4670CD466FD95/Project/AI/Build_ML_Solutions_with_sklearn/.venv/lib64/python3.13/site-packages/sklearn/linear_model/_logistic.py:469: ConvergenceWarning: lbfgs failed to converge (status=1):\n",
      "STOP: TOTAL NO. of ITERATIONS REACHED LIMIT.\n",
      "\n",
      "Increase the number of iterations (max_iter) or scale the data as shown in:\n",
      "    https://scikit-learn.org/stable/modules/preprocessing.html\n",
      "Please also refer to the documentation for alternative solver options:\n",
      "    https://scikit-learn.org/stable/modules/linear_model.html#logistic-regression\n",
      "  n_iter_i = _check_optimize_result(\n",
      "/run/media/agamy/46D4670CD466FD95/Project/AI/Build_ML_Solutions_with_sklearn/.venv/lib64/python3.13/site-packages/sklearn/linear_model/_logistic.py:1247: FutureWarning: 'multi_class' was deprecated in version 1.5 and will be removed in 1.7. From then on, it will always use 'multinomial'. Leave it to its default value to avoid this warning.\n",
      "  warnings.warn(\n",
      "/run/media/agamy/46D4670CD466FD95/Project/AI/Build_ML_Solutions_with_sklearn/.venv/lib64/python3.13/site-packages/sklearn/linear_model/_logistic.py:469: ConvergenceWarning: lbfgs failed to converge (status=1):\n",
      "STOP: TOTAL NO. of ITERATIONS REACHED LIMIT.\n",
      "\n",
      "Increase the number of iterations (max_iter) or scale the data as shown in:\n",
      "    https://scikit-learn.org/stable/modules/preprocessing.html\n",
      "Please also refer to the documentation for alternative solver options:\n",
      "    https://scikit-learn.org/stable/modules/linear_model.html#logistic-regression\n",
      "  n_iter_i = _check_optimize_result(\n",
      "/run/media/agamy/46D4670CD466FD95/Project/AI/Build_ML_Solutions_with_sklearn/.venv/lib64/python3.13/site-packages/sklearn/linear_model/_logistic.py:1247: FutureWarning: 'multi_class' was deprecated in version 1.5 and will be removed in 1.7. From then on, it will always use 'multinomial'. Leave it to its default value to avoid this warning.\n",
      "  warnings.warn(\n",
      "/run/media/agamy/46D4670CD466FD95/Project/AI/Build_ML_Solutions_with_sklearn/.venv/lib64/python3.13/site-packages/sklearn/linear_model/_logistic.py:469: ConvergenceWarning: lbfgs failed to converge (status=1):\n",
      "STOP: TOTAL NO. of ITERATIONS REACHED LIMIT.\n",
      "\n",
      "Increase the number of iterations (max_iter) or scale the data as shown in:\n",
      "    https://scikit-learn.org/stable/modules/preprocessing.html\n",
      "Please also refer to the documentation for alternative solver options:\n",
      "    https://scikit-learn.org/stable/modules/linear_model.html#logistic-regression\n",
      "  n_iter_i = _check_optimize_result(\n"
     ]
    },
    {
     "data": {
      "text/plain": [
       "{'C': 0.1}"
      ]
     },
     "execution_count": 14,
     "metadata": {},
     "output_type": "execute_result"
    }
   ],
   "source": [
    "from sklearn.model_selection import GridSearchCV\n",
    "\n",
    "param_grid= [\n",
    "    {'C':[0.1,1,5]}\n",
    "]\n",
    "\n",
    "grid_search= GridSearchCV(logistic,param_grid,cv=2)\n",
    "grid_search.fit(x_train,y_train)\n",
    "grid_search.best_params_"
   ]
  },
  {
   "cell_type": "code",
   "execution_count": 16,
   "metadata": {},
   "outputs": [
    {
     "name": "stdout",
     "output_type": "stream",
     "text": [
      "Parameters:  {'C': 0.1}\n",
      "Mean Test Score:  0.8915178571428571\n",
      "Rank :  1\n",
      "Parameters:  {'C': 1}\n",
      "Mean Test Score:  0.89025\n",
      "Rank :  2\n",
      "Parameters:  {'C': 5}\n",
      "Mean Test Score:  0.8896428571428572\n",
      "Rank :  3\n"
     ]
    }
   ],
   "source": [
    "for i in range(3):\n",
    "    print(\"Parameters: \", grid_search.cv_results_['params'][i])\n",
    "    print('Mean Test Score: ', grid_search.cv_results_['mean_test_score'][i])\n",
    "    print('Rank : ',grid_search.cv_results_['rank_test_score'][i] )"
   ]
  },
  {
   "cell_type": "markdown",
   "metadata": {},
   "source": [
    "## Dimentionality Reduction Using RBM"
   ]
  },
  {
   "cell_type": "code",
   "execution_count": 18,
   "metadata": {},
   "outputs": [],
   "source": [
    "rbm= BernoulliRBM(verbose=True)\n",
    "\n",
    "rbm_features_classifier= Pipeline(steps=[('rbm',rbm),\n",
    "                                        ('logistic',logistic)\n",
    "                                        ])\n",
    "\n",
    "rbm.learning_rate=0.06\n",
    "logistic.C= grid_search.best_params_['C']"
   ]
  },
  {
   "cell_type": "code",
   "execution_count": 19,
   "metadata": {},
   "outputs": [
    {
     "data": {
      "text/plain": [
       "dict_keys(['memory', 'steps', 'verbose', 'rbm', 'logistic', 'rbm__batch_size', 'rbm__learning_rate', 'rbm__n_components', 'rbm__n_iter', 'rbm__random_state', 'rbm__verbose', 'logistic__C', 'logistic__class_weight', 'logistic__dual', 'logistic__fit_intercept', 'logistic__intercept_scaling', 'logistic__l1_ratio', 'logistic__max_iter', 'logistic__multi_class', 'logistic__n_jobs', 'logistic__penalty', 'logistic__random_state', 'logistic__solver', 'logistic__tol', 'logistic__verbose', 'logistic__warm_start'])"
      ]
     },
     "execution_count": 19,
     "metadata": {},
     "output_type": "execute_result"
    }
   ],
   "source": [
    "rbm_features_classifier.get_params().keys()"
   ]
  },
  {
   "cell_type": "code",
   "execution_count": 20,
   "metadata": {},
   "outputs": [
    {
     "name": "stdout",
     "output_type": "stream",
     "text": [
      "[BernoulliRBM] Iteration 1, pseudo-likelihood = -13166044.06, time = 1.71s\n",
      "[BernoulliRBM] Iteration 2, pseudo-likelihood = -26803087.67, time = 2.39s\n",
      "[BernoulliRBM] Iteration 3, pseudo-likelihood = -38708061.00, time = 2.14s\n",
      "[BernoulliRBM] Iteration 4, pseudo-likelihood = -50759737.82, time = 1.94s\n",
      "[BernoulliRBM] Iteration 5, pseudo-likelihood = -65003318.36, time = 2.00s\n"
     ]
    },
    {
     "name": "stderr",
     "output_type": "stream",
     "text": [
      "/run/media/agamy/46D4670CD466FD95/Project/AI/Build_ML_Solutions_with_sklearn/.venv/lib64/python3.13/site-packages/sklearn/linear_model/_logistic.py:1247: FutureWarning: 'multi_class' was deprecated in version 1.5 and will be removed in 1.7. From then on, it will always use 'multinomial'. Leave it to its default value to avoid this warning.\n",
      "  warnings.warn(\n"
     ]
    },
    {
     "name": "stdout",
     "output_type": "stream",
     "text": [
      "[BernoulliRBM] Iteration 1, pseudo-likelihood = -13229230.26, time = 1.47s\n",
      "[BernoulliRBM] Iteration 2, pseudo-likelihood = -26047266.66, time = 1.43s\n",
      "[BernoulliRBM] Iteration 3, pseudo-likelihood = -38942196.10, time = 1.41s\n",
      "[BernoulliRBM] Iteration 4, pseudo-likelihood = -52325911.89, time = 1.33s\n",
      "[BernoulliRBM] Iteration 5, pseudo-likelihood = -63842083.43, time = 1.30s\n"
     ]
    },
    {
     "name": "stderr",
     "output_type": "stream",
     "text": [
      "/run/media/agamy/46D4670CD466FD95/Project/AI/Build_ML_Solutions_with_sklearn/.venv/lib64/python3.13/site-packages/sklearn/linear_model/_logistic.py:1247: FutureWarning: 'multi_class' was deprecated in version 1.5 and will be removed in 1.7. From then on, it will always use 'multinomial'. Leave it to its default value to avoid this warning.\n",
      "  warnings.warn(\n"
     ]
    },
    {
     "name": "stdout",
     "output_type": "stream",
     "text": [
      "[BernoulliRBM] Iteration 1, pseudo-likelihood = -13135903.08, time = 1.06s\n",
      "[BernoulliRBM] Iteration 2, pseudo-likelihood = -26451566.89, time = 1.26s\n",
      "[BernoulliRBM] Iteration 3, pseudo-likelihood = -38746512.25, time = 1.28s\n",
      "[BernoulliRBM] Iteration 4, pseudo-likelihood = -51917279.98, time = 1.27s\n",
      "[BernoulliRBM] Iteration 5, pseudo-likelihood = -67020146.12, time = 1.25s\n",
      "[BernoulliRBM] Iteration 6, pseudo-likelihood = -79455005.85, time = 1.25s\n",
      "[BernoulliRBM] Iteration 7, pseudo-likelihood = -93938822.01, time = 1.27s\n",
      "[BernoulliRBM] Iteration 8, pseudo-likelihood = -105764688.77, time = 1.24s\n",
      "[BernoulliRBM] Iteration 9, pseudo-likelihood = -118014574.61, time = 1.38s\n",
      "[BernoulliRBM] Iteration 10, pseudo-likelihood = -132115019.55, time = 1.77s\n",
      "[BernoulliRBM] Iteration 11, pseudo-likelihood = -146157856.09, time = 1.75s\n",
      "[BernoulliRBM] Iteration 12, pseudo-likelihood = -159103173.92, time = 1.84s\n",
      "[BernoulliRBM] Iteration 13, pseudo-likelihood = -172187295.39, time = 1.89s\n",
      "[BernoulliRBM] Iteration 14, pseudo-likelihood = -185043528.64, time = 1.62s\n",
      "[BernoulliRBM] Iteration 15, pseudo-likelihood = -196768912.69, time = 1.74s\n",
      "[BernoulliRBM] Iteration 16, pseudo-likelihood = -209059159.35, time = 1.73s\n",
      "[BernoulliRBM] Iteration 17, pseudo-likelihood = -224215956.49, time = 1.59s\n",
      "[BernoulliRBM] Iteration 18, pseudo-likelihood = -235780624.17, time = 1.49s\n",
      "[BernoulliRBM] Iteration 19, pseudo-likelihood = -248362809.42, time = 1.31s\n",
      "[BernoulliRBM] Iteration 20, pseudo-likelihood = -260210743.03, time = 1.23s\n"
     ]
    },
    {
     "name": "stderr",
     "output_type": "stream",
     "text": [
      "/run/media/agamy/46D4670CD466FD95/Project/AI/Build_ML_Solutions_with_sklearn/.venv/lib64/python3.13/site-packages/sklearn/linear_model/_logistic.py:1247: FutureWarning: 'multi_class' was deprecated in version 1.5 and will be removed in 1.7. From then on, it will always use 'multinomial'. Leave it to its default value to avoid this warning.\n",
      "  warnings.warn(\n"
     ]
    },
    {
     "name": "stdout",
     "output_type": "stream",
     "text": [
      "[BernoulliRBM] Iteration 1, pseudo-likelihood = -10883586.92, time = 1.06s\n",
      "[BernoulliRBM] Iteration 2, pseudo-likelihood = -21565688.92, time = 1.37s\n",
      "[BernoulliRBM] Iteration 3, pseudo-likelihood = -32727456.80, time = 1.78s\n",
      "[BernoulliRBM] Iteration 4, pseudo-likelihood = -44325007.56, time = 1.98s\n",
      "[BernoulliRBM] Iteration 5, pseudo-likelihood = -54149149.52, time = 1.90s\n",
      "[BernoulliRBM] Iteration 6, pseudo-likelihood = -66141534.59, time = 1.84s\n",
      "[BernoulliRBM] Iteration 7, pseudo-likelihood = -76986997.00, time = 1.78s\n",
      "[BernoulliRBM] Iteration 8, pseudo-likelihood = -86850067.76, time = 1.60s\n",
      "[BernoulliRBM] Iteration 9, pseudo-likelihood = -98294861.69, time = 1.70s\n",
      "[BernoulliRBM] Iteration 10, pseudo-likelihood = -107504710.91, time = 1.52s\n",
      "[BernoulliRBM] Iteration 11, pseudo-likelihood = -121195206.25, time = 1.49s\n",
      "[BernoulliRBM] Iteration 12, pseudo-likelihood = -131687963.00, time = 1.49s\n",
      "[BernoulliRBM] Iteration 13, pseudo-likelihood = -142515972.40, time = 1.29s\n",
      "[BernoulliRBM] Iteration 14, pseudo-likelihood = -154096890.73, time = 1.30s\n",
      "[BernoulliRBM] Iteration 15, pseudo-likelihood = -164070918.95, time = 1.29s\n",
      "[BernoulliRBM] Iteration 16, pseudo-likelihood = -174635044.97, time = 1.27s\n",
      "[BernoulliRBM] Iteration 17, pseudo-likelihood = -184604020.76, time = 1.26s\n",
      "[BernoulliRBM] Iteration 18, pseudo-likelihood = -198572806.81, time = 1.31s\n",
      "[BernoulliRBM] Iteration 19, pseudo-likelihood = -207841776.07, time = 1.37s\n",
      "[BernoulliRBM] Iteration 20, pseudo-likelihood = -216802416.39, time = 1.30s\n"
     ]
    },
    {
     "name": "stderr",
     "output_type": "stream",
     "text": [
      "/run/media/agamy/46D4670CD466FD95/Project/AI/Build_ML_Solutions_with_sklearn/.venv/lib64/python3.13/site-packages/sklearn/linear_model/_logistic.py:1247: FutureWarning: 'multi_class' was deprecated in version 1.5 and will be removed in 1.7. From then on, it will always use 'multinomial'. Leave it to its default value to avoid this warning.\n",
      "  warnings.warn(\n"
     ]
    },
    {
     "name": "stdout",
     "output_type": "stream",
     "text": [
      "[BernoulliRBM] Iteration 1, pseudo-likelihood = -106709182.12, time = 2.22s\n",
      "[BernoulliRBM] Iteration 2, pseudo-likelihood = -210374473.64, time = 2.68s\n",
      "[BernoulliRBM] Iteration 3, pseudo-likelihood = -322402149.20, time = 2.67s\n",
      "[BernoulliRBM] Iteration 4, pseudo-likelihood = -425615129.58, time = 2.81s\n",
      "[BernoulliRBM] Iteration 5, pseudo-likelihood = -534373619.61, time = 2.75s\n"
     ]
    },
    {
     "name": "stderr",
     "output_type": "stream",
     "text": [
      "/run/media/agamy/46D4670CD466FD95/Project/AI/Build_ML_Solutions_with_sklearn/.venv/lib64/python3.13/site-packages/sklearn/linear_model/_logistic.py:1247: FutureWarning: 'multi_class' was deprecated in version 1.5 and will be removed in 1.7. From then on, it will always use 'multinomial'. Leave it to its default value to avoid this warning.\n",
      "  warnings.warn(\n"
     ]
    },
    {
     "name": "stdout",
     "output_type": "stream",
     "text": [
      "[BernoulliRBM] Iteration 1, pseudo-likelihood = -104522475.45, time = 2.33s\n",
      "[BernoulliRBM] Iteration 2, pseudo-likelihood = -209223478.24, time = 2.85s\n",
      "[BernoulliRBM] Iteration 3, pseudo-likelihood = -318096073.85, time = 3.14s\n",
      "[BernoulliRBM] Iteration 4, pseudo-likelihood = -412509000.10, time = 2.71s\n",
      "[BernoulliRBM] Iteration 5, pseudo-likelihood = -529608306.76, time = 3.26s\n"
     ]
    },
    {
     "name": "stderr",
     "output_type": "stream",
     "text": [
      "/run/media/agamy/46D4670CD466FD95/Project/AI/Build_ML_Solutions_with_sklearn/.venv/lib64/python3.13/site-packages/sklearn/linear_model/_logistic.py:1247: FutureWarning: 'multi_class' was deprecated in version 1.5 and will be removed in 1.7. From then on, it will always use 'multinomial'. Leave it to its default value to avoid this warning.\n",
      "  warnings.warn(\n"
     ]
    },
    {
     "name": "stdout",
     "output_type": "stream",
     "text": [
      "[BernoulliRBM] Iteration 1, pseudo-likelihood = -103622748.65, time = 2.55s\n",
      "[BernoulliRBM] Iteration 2, pseudo-likelihood = -203929818.66, time = 3.41s\n",
      "[BernoulliRBM] Iteration 3, pseudo-likelihood = -310018874.06, time = 3.53s\n",
      "[BernoulliRBM] Iteration 4, pseudo-likelihood = -411686713.79, time = 3.17s\n",
      "[BernoulliRBM] Iteration 5, pseudo-likelihood = -501283981.03, time = 3.22s\n",
      "[BernoulliRBM] Iteration 6, pseudo-likelihood = -607898849.17, time = 2.98s\n",
      "[BernoulliRBM] Iteration 7, pseudo-likelihood = -728344022.77, time = 2.61s\n",
      "[BernoulliRBM] Iteration 8, pseudo-likelihood = -809738588.63, time = 2.62s\n",
      "[BernoulliRBM] Iteration 9, pseudo-likelihood = -935916961.64, time = 4.01s\n",
      "[BernoulliRBM] Iteration 10, pseudo-likelihood = -1012675937.63, time = 5.11s\n",
      "[BernoulliRBM] Iteration 11, pseudo-likelihood = -1126896767.59, time = 2.75s\n",
      "[BernoulliRBM] Iteration 12, pseudo-likelihood = -1205387675.14, time = 2.67s\n",
      "[BernoulliRBM] Iteration 13, pseudo-likelihood = -1330524043.40, time = 2.74s\n",
      "[BernoulliRBM] Iteration 14, pseudo-likelihood = -1415835271.83, time = 2.70s\n",
      "[BernoulliRBM] Iteration 15, pseudo-likelihood = -1546689780.37, time = 2.77s\n",
      "[BernoulliRBM] Iteration 16, pseudo-likelihood = -1638669767.26, time = 2.70s\n",
      "[BernoulliRBM] Iteration 17, pseudo-likelihood = -1737900160.12, time = 2.77s\n",
      "[BernoulliRBM] Iteration 18, pseudo-likelihood = -1862497091.43, time = 2.69s\n",
      "[BernoulliRBM] Iteration 19, pseudo-likelihood = -1931149858.14, time = 2.64s\n",
      "[BernoulliRBM] Iteration 20, pseudo-likelihood = -2037283144.66, time = 2.92s\n"
     ]
    },
    {
     "name": "stderr",
     "output_type": "stream",
     "text": [
      "/run/media/agamy/46D4670CD466FD95/Project/AI/Build_ML_Solutions_with_sklearn/.venv/lib64/python3.13/site-packages/sklearn/linear_model/_logistic.py:1247: FutureWarning: 'multi_class' was deprecated in version 1.5 and will be removed in 1.7. From then on, it will always use 'multinomial'. Leave it to its default value to avoid this warning.\n",
      "  warnings.warn(\n"
     ]
    },
    {
     "name": "stdout",
     "output_type": "stream",
     "text": [
      "[BernoulliRBM] Iteration 1, pseudo-likelihood = -107556343.26, time = 2.37s\n",
      "[BernoulliRBM] Iteration 2, pseudo-likelihood = -215561289.85, time = 3.12s\n",
      "[BernoulliRBM] Iteration 3, pseudo-likelihood = -316576863.05, time = 3.06s\n",
      "[BernoulliRBM] Iteration 4, pseudo-likelihood = -426467755.53, time = 3.54s\n",
      "[BernoulliRBM] Iteration 5, pseudo-likelihood = -534084406.34, time = 3.87s\n",
      "[BernoulliRBM] Iteration 6, pseudo-likelihood = -635382297.85, time = 3.59s\n",
      "[BernoulliRBM] Iteration 7, pseudo-likelihood = -746658044.21, time = 2.76s\n",
      "[BernoulliRBM] Iteration 8, pseudo-likelihood = -858083994.66, time = 2.80s\n",
      "[BernoulliRBM] Iteration 9, pseudo-likelihood = -957862688.60, time = 2.74s\n",
      "[BernoulliRBM] Iteration 10, pseudo-likelihood = -1075690642.79, time = 2.85s\n",
      "[BernoulliRBM] Iteration 11, pseudo-likelihood = -1175232368.30, time = 2.90s\n",
      "[BernoulliRBM] Iteration 12, pseudo-likelihood = -1279119124.88, time = 3.08s\n",
      "[BernoulliRBM] Iteration 13, pseudo-likelihood = -1399312839.10, time = 3.07s\n",
      "[BernoulliRBM] Iteration 14, pseudo-likelihood = -1520285288.95, time = 2.88s\n",
      "[BernoulliRBM] Iteration 15, pseudo-likelihood = -1589899949.81, time = 2.87s\n",
      "[BernoulliRBM] Iteration 16, pseudo-likelihood = -1710767505.79, time = 2.67s\n",
      "[BernoulliRBM] Iteration 17, pseudo-likelihood = -1809204305.01, time = 3.35s\n",
      "[BernoulliRBM] Iteration 18, pseudo-likelihood = -1956934548.17, time = 2.72s\n",
      "[BernoulliRBM] Iteration 19, pseudo-likelihood = -2047538676.20, time = 3.10s\n",
      "[BernoulliRBM] Iteration 20, pseudo-likelihood = -2159282725.55, time = 3.20s\n"
     ]
    },
    {
     "name": "stderr",
     "output_type": "stream",
     "text": [
      "/run/media/agamy/46D4670CD466FD95/Project/AI/Build_ML_Solutions_with_sklearn/.venv/lib64/python3.13/site-packages/sklearn/linear_model/_logistic.py:1247: FutureWarning: 'multi_class' was deprecated in version 1.5 and will be removed in 1.7. From then on, it will always use 'multinomial'. Leave it to its default value to avoid this warning.\n",
      "  warnings.warn(\n"
     ]
    },
    {
     "name": "stdout",
     "output_type": "stream",
     "text": [
      "[BernoulliRBM] Iteration 1, pseudo-likelihood = -207457146.37, time = 4.45s\n",
      "[BernoulliRBM] Iteration 2, pseudo-likelihood = -404434688.61, time = 6.15s\n",
      "[BernoulliRBM] Iteration 3, pseudo-likelihood = -618481989.98, time = 4.99s\n",
      "[BernoulliRBM] Iteration 4, pseudo-likelihood = -824586303.30, time = 5.19s\n",
      "[BernoulliRBM] Iteration 5, pseudo-likelihood = -1041237787.60, time = 3.89s\n"
     ]
    },
    {
     "name": "stderr",
     "output_type": "stream",
     "text": [
      "/run/media/agamy/46D4670CD466FD95/Project/AI/Build_ML_Solutions_with_sklearn/.venv/lib64/python3.13/site-packages/sklearn/linear_model/_logistic.py:1247: FutureWarning: 'multi_class' was deprecated in version 1.5 and will be removed in 1.7. From then on, it will always use 'multinomial'. Leave it to its default value to avoid this warning.\n",
      "  warnings.warn(\n"
     ]
    },
    {
     "name": "stdout",
     "output_type": "stream",
     "text": [
      "[BernoulliRBM] Iteration 1, pseudo-likelihood = -206911194.40, time = 3.42s\n",
      "[BernoulliRBM] Iteration 2, pseudo-likelihood = -422529465.37, time = 3.85s\n",
      "[BernoulliRBM] Iteration 3, pseudo-likelihood = -640943666.26, time = 3.90s\n",
      "[BernoulliRBM] Iteration 4, pseudo-likelihood = -853916894.87, time = 4.01s\n",
      "[BernoulliRBM] Iteration 5, pseudo-likelihood = -1054675530.70, time = 3.85s\n"
     ]
    },
    {
     "name": "stderr",
     "output_type": "stream",
     "text": [
      "/run/media/agamy/46D4670CD466FD95/Project/AI/Build_ML_Solutions_with_sklearn/.venv/lib64/python3.13/site-packages/sklearn/linear_model/_logistic.py:1247: FutureWarning: 'multi_class' was deprecated in version 1.5 and will be removed in 1.7. From then on, it will always use 'multinomial'. Leave it to its default value to avoid this warning.\n",
      "  warnings.warn(\n"
     ]
    },
    {
     "name": "stdout",
     "output_type": "stream",
     "text": [
      "[BernoulliRBM] Iteration 1, pseudo-likelihood = -208384619.06, time = 4.11s\n",
      "[BernoulliRBM] Iteration 2, pseudo-likelihood = -425731147.38, time = 4.44s\n",
      "[BernoulliRBM] Iteration 3, pseudo-likelihood = -631871444.60, time = 4.07s\n",
      "[BernoulliRBM] Iteration 4, pseudo-likelihood = -836748659.14, time = 5.05s\n",
      "[BernoulliRBM] Iteration 5, pseudo-likelihood = -1044577806.33, time = 5.72s\n",
      "[BernoulliRBM] Iteration 6, pseudo-likelihood = -1236656273.18, time = 5.15s\n",
      "[BernoulliRBM] Iteration 7, pseudo-likelihood = -1477415152.67, time = 4.29s\n",
      "[BernoulliRBM] Iteration 8, pseudo-likelihood = -1690649661.10, time = 4.29s\n",
      "[BernoulliRBM] Iteration 9, pseudo-likelihood = -1911184541.49, time = 4.09s\n",
      "[BernoulliRBM] Iteration 10, pseudo-likelihood = -2130512050.46, time = 4.57s\n",
      "[BernoulliRBM] Iteration 11, pseudo-likelihood = -2351111099.33, time = 4.79s\n",
      "[BernoulliRBM] Iteration 12, pseudo-likelihood = -2512526339.36, time = 4.00s\n",
      "[BernoulliRBM] Iteration 13, pseudo-likelihood = -2745996937.02, time = 4.72s\n",
      "[BernoulliRBM] Iteration 14, pseudo-likelihood = -3014352229.72, time = 4.09s\n",
      "[BernoulliRBM] Iteration 15, pseudo-likelihood = -3198499496.49, time = 4.31s\n",
      "[BernoulliRBM] Iteration 16, pseudo-likelihood = -3484734280.62, time = 4.71s\n",
      "[BernoulliRBM] Iteration 17, pseudo-likelihood = -3636532588.59, time = 3.95s\n",
      "[BernoulliRBM] Iteration 18, pseudo-likelihood = -3850793320.11, time = 5.15s\n",
      "[BernoulliRBM] Iteration 19, pseudo-likelihood = -4083142368.42, time = 4.91s\n",
      "[BernoulliRBM] Iteration 20, pseudo-likelihood = -4249880318.63, time = 4.29s\n"
     ]
    },
    {
     "name": "stderr",
     "output_type": "stream",
     "text": [
      "/run/media/agamy/46D4670CD466FD95/Project/AI/Build_ML_Solutions_with_sklearn/.venv/lib64/python3.13/site-packages/sklearn/linear_model/_logistic.py:1247: FutureWarning: 'multi_class' was deprecated in version 1.5 and will be removed in 1.7. From then on, it will always use 'multinomial'. Leave it to its default value to avoid this warning.\n",
      "  warnings.warn(\n"
     ]
    },
    {
     "name": "stdout",
     "output_type": "stream",
     "text": [
      "[BernoulliRBM] Iteration 1, pseudo-likelihood = -214835639.03, time = 3.55s\n",
      "[BernoulliRBM] Iteration 2, pseudo-likelihood = -424877241.07, time = 5.41s\n",
      "[BernoulliRBM] Iteration 3, pseudo-likelihood = -646321596.03, time = 5.99s\n",
      "[BernoulliRBM] Iteration 4, pseudo-likelihood = -863911269.78, time = 4.07s\n",
      "[BernoulliRBM] Iteration 5, pseudo-likelihood = -1075285438.17, time = 4.16s\n",
      "[BernoulliRBM] Iteration 6, pseudo-likelihood = -1298747723.86, time = 4.76s\n",
      "[BernoulliRBM] Iteration 7, pseudo-likelihood = -1505084734.57, time = 4.34s\n",
      "[BernoulliRBM] Iteration 8, pseudo-likelihood = -1773334882.22, time = 4.55s\n",
      "[BernoulliRBM] Iteration 9, pseudo-likelihood = -1926305231.96, time = 4.67s\n",
      "[BernoulliRBM] Iteration 10, pseudo-likelihood = -2126625001.65, time = 4.42s\n",
      "[BernoulliRBM] Iteration 11, pseudo-likelihood = -2369225886.30, time = 4.64s\n",
      "[BernoulliRBM] Iteration 12, pseudo-likelihood = -2562791175.25, time = 4.81s\n",
      "[BernoulliRBM] Iteration 13, pseudo-likelihood = -2824861719.67, time = 4.86s\n",
      "[BernoulliRBM] Iteration 14, pseudo-likelihood = -3021055362.79, time = 3.93s\n",
      "[BernoulliRBM] Iteration 15, pseudo-likelihood = -3252779940.32, time = 4.32s\n",
      "[BernoulliRBM] Iteration 16, pseudo-likelihood = -3459548954.86, time = 4.04s\n",
      "[BernoulliRBM] Iteration 17, pseudo-likelihood = -3736119534.82, time = 3.89s\n",
      "[BernoulliRBM] Iteration 18, pseudo-likelihood = -3883342563.39, time = 4.49s\n",
      "[BernoulliRBM] Iteration 19, pseudo-likelihood = -4188328184.70, time = 4.73s\n",
      "[BernoulliRBM] Iteration 20, pseudo-likelihood = -4202863683.42, time = 4.15s\n"
     ]
    },
    {
     "name": "stderr",
     "output_type": "stream",
     "text": [
      "/run/media/agamy/46D4670CD466FD95/Project/AI/Build_ML_Solutions_with_sklearn/.venv/lib64/python3.13/site-packages/sklearn/linear_model/_logistic.py:1247: FutureWarning: 'multi_class' was deprecated in version 1.5 and will be removed in 1.7. From then on, it will always use 'multinomial'. Leave it to its default value to avoid this warning.\n",
      "  warnings.warn(\n"
     ]
    },
    {
     "name": "stdout",
     "output_type": "stream",
     "text": [
      "[BernoulliRBM] Iteration 1, pseudo-likelihood = -314393693.42, time = 5.34s\n",
      "[BernoulliRBM] Iteration 2, pseudo-likelihood = -630784070.00, time = 5.27s\n",
      "[BernoulliRBM] Iteration 3, pseudo-likelihood = -936568248.91, time = 6.20s\n",
      "[BernoulliRBM] Iteration 4, pseudo-likelihood = -1252050037.21, time = 6.57s\n",
      "[BernoulliRBM] Iteration 5, pseudo-likelihood = -1593541013.83, time = 6.61s\n"
     ]
    },
    {
     "name": "stderr",
     "output_type": "stream",
     "text": [
      "/run/media/agamy/46D4670CD466FD95/Project/AI/Build_ML_Solutions_with_sklearn/.venv/lib64/python3.13/site-packages/sklearn/linear_model/_logistic.py:1247: FutureWarning: 'multi_class' was deprecated in version 1.5 and will be removed in 1.7. From then on, it will always use 'multinomial'. Leave it to its default value to avoid this warning.\n",
      "  warnings.warn(\n"
     ]
    },
    {
     "name": "stdout",
     "output_type": "stream",
     "text": [
      "[BernoulliRBM] Iteration 1, pseudo-likelihood = -313412092.61, time = 5.06s\n",
      "[BernoulliRBM] Iteration 2, pseudo-likelihood = -639468576.50, time = 7.43s\n",
      "[BernoulliRBM] Iteration 3, pseudo-likelihood = -952847362.98, time = 5.83s\n",
      "[BernoulliRBM] Iteration 4, pseudo-likelihood = -1263638457.36, time = 5.05s\n",
      "[BernoulliRBM] Iteration 5, pseudo-likelihood = -1559726593.27, time = 5.51s\n"
     ]
    },
    {
     "name": "stderr",
     "output_type": "stream",
     "text": [
      "/run/media/agamy/46D4670CD466FD95/Project/AI/Build_ML_Solutions_with_sklearn/.venv/lib64/python3.13/site-packages/sklearn/linear_model/_logistic.py:1247: FutureWarning: 'multi_class' was deprecated in version 1.5 and will be removed in 1.7. From then on, it will always use 'multinomial'. Leave it to its default value to avoid this warning.\n",
      "  warnings.warn(\n"
     ]
    },
    {
     "name": "stdout",
     "output_type": "stream",
     "text": [
      "[BernoulliRBM] Iteration 1, pseudo-likelihood = -306829262.04, time = 4.38s\n",
      "[BernoulliRBM] Iteration 2, pseudo-likelihood = -612096540.95, time = 5.27s\n",
      "[BernoulliRBM] Iteration 3, pseudo-likelihood = -909545886.21, time = 5.74s\n",
      "[BernoulliRBM] Iteration 4, pseudo-likelihood = -1229246772.25, time = 6.77s\n",
      "[BernoulliRBM] Iteration 5, pseudo-likelihood = -1496358325.69, time = 6.49s\n",
      "[BernoulliRBM] Iteration 6, pseudo-likelihood = -1858970606.58, time = 5.59s\n",
      "[BernoulliRBM] Iteration 7, pseudo-likelihood = -2129102517.90, time = 4.88s\n",
      "[BernoulliRBM] Iteration 8, pseudo-likelihood = -2435395506.08, time = 5.97s\n",
      "[BernoulliRBM] Iteration 9, pseudo-likelihood = -2812826350.47, time = 5.47s\n",
      "[BernoulliRBM] Iteration 10, pseudo-likelihood = -3143914885.51, time = 4.71s\n",
      "[BernoulliRBM] Iteration 11, pseudo-likelihood = -3387479729.21, time = 4.99s\n",
      "[BernoulliRBM] Iteration 12, pseudo-likelihood = -3683091057.19, time = 7.26s\n",
      "[BernoulliRBM] Iteration 13, pseudo-likelihood = -3956195679.30, time = 5.87s\n",
      "[BernoulliRBM] Iteration 14, pseudo-likelihood = -4256736285.33, time = 7.94s\n",
      "[BernoulliRBM] Iteration 15, pseudo-likelihood = -4646632588.49, time = 6.98s\n",
      "[BernoulliRBM] Iteration 16, pseudo-likelihood = -4969789050.23, time = 6.26s\n",
      "[BernoulliRBM] Iteration 17, pseudo-likelihood = -5304738560.83, time = 6.52s\n",
      "[BernoulliRBM] Iteration 18, pseudo-likelihood = -5512156181.73, time = 5.99s\n",
      "[BernoulliRBM] Iteration 19, pseudo-likelihood = -5721084499.75, time = 5.55s\n",
      "[BernoulliRBM] Iteration 20, pseudo-likelihood = -6150472908.69, time = 6.31s\n"
     ]
    },
    {
     "name": "stderr",
     "output_type": "stream",
     "text": [
      "/run/media/agamy/46D4670CD466FD95/Project/AI/Build_ML_Solutions_with_sklearn/.venv/lib64/python3.13/site-packages/sklearn/linear_model/_logistic.py:1247: FutureWarning: 'multi_class' was deprecated in version 1.5 and will be removed in 1.7. From then on, it will always use 'multinomial'. Leave it to its default value to avoid this warning.\n",
      "  warnings.warn(\n"
     ]
    },
    {
     "name": "stdout",
     "output_type": "stream",
     "text": [
      "[BernoulliRBM] Iteration 1, pseudo-likelihood = -314331983.97, time = 4.25s\n",
      "[BernoulliRBM] Iteration 2, pseudo-likelihood = -635648401.30, time = 5.79s\n",
      "[BernoulliRBM] Iteration 3, pseudo-likelihood = -932503097.66, time = 8.40s\n",
      "[BernoulliRBM] Iteration 4, pseudo-likelihood = -1256230953.48, time = 7.59s\n",
      "[BernoulliRBM] Iteration 5, pseudo-likelihood = -1579432076.83, time = 5.50s\n",
      "[BernoulliRBM] Iteration 6, pseudo-likelihood = -1881814443.36, time = 6.18s\n",
      "[BernoulliRBM] Iteration 7, pseudo-likelihood = -2214075455.29, time = 5.24s\n",
      "[BernoulliRBM] Iteration 8, pseudo-likelihood = -2471848941.18, time = 5.00s\n",
      "[BernoulliRBM] Iteration 9, pseudo-likelihood = -2788534185.72, time = 5.60s\n",
      "[BernoulliRBM] Iteration 10, pseudo-likelihood = -3107365245.48, time = 6.88s\n",
      "[BernoulliRBM] Iteration 11, pseudo-likelihood = -3471475813.77, time = 5.72s\n",
      "[BernoulliRBM] Iteration 12, pseudo-likelihood = -3826317460.56, time = 5.70s\n",
      "[BernoulliRBM] Iteration 13, pseudo-likelihood = -4039043937.09, time = 6.38s\n",
      "[BernoulliRBM] Iteration 14, pseudo-likelihood = -4386030425.69, time = 5.37s\n",
      "[BernoulliRBM] Iteration 15, pseudo-likelihood = -4632085507.66, time = 5.54s\n",
      "[BernoulliRBM] Iteration 16, pseudo-likelihood = -5041067502.62, time = 5.53s\n",
      "[BernoulliRBM] Iteration 17, pseudo-likelihood = -5429262918.82, time = 5.26s\n",
      "[BernoulliRBM] Iteration 18, pseudo-likelihood = -5593177690.95, time = 5.63s\n",
      "[BernoulliRBM] Iteration 19, pseudo-likelihood = -5856555148.74, time = 5.46s\n",
      "[BernoulliRBM] Iteration 20, pseudo-likelihood = -6315346824.42, time = 5.56s\n"
     ]
    },
    {
     "name": "stderr",
     "output_type": "stream",
     "text": [
      "/run/media/agamy/46D4670CD466FD95/Project/AI/Build_ML_Solutions_with_sklearn/.venv/lib64/python3.13/site-packages/sklearn/linear_model/_logistic.py:1247: FutureWarning: 'multi_class' was deprecated in version 1.5 and will be removed in 1.7. From then on, it will always use 'multinomial'. Leave it to its default value to avoid this warning.\n",
      "  warnings.warn(\n"
     ]
    },
    {
     "name": "stdout",
     "output_type": "stream",
     "text": [
      "[BernoulliRBM] Iteration 1, pseudo-likelihood = -26206276.98, time = 2.49s\n",
      "[BernoulliRBM] Iteration 2, pseudo-likelihood = -52249401.14, time = 2.61s\n",
      "[BernoulliRBM] Iteration 3, pseudo-likelihood = -78113280.74, time = 2.67s\n",
      "[BernoulliRBM] Iteration 4, pseudo-likelihood = -103942203.66, time = 2.47s\n",
      "[BernoulliRBM] Iteration 5, pseudo-likelihood = -131098563.32, time = 2.69s\n"
     ]
    },
    {
     "name": "stderr",
     "output_type": "stream",
     "text": [
      "/run/media/agamy/46D4670CD466FD95/Project/AI/Build_ML_Solutions_with_sklearn/.venv/lib64/python3.13/site-packages/sklearn/linear_model/_logistic.py:1247: FutureWarning: 'multi_class' was deprecated in version 1.5 and will be removed in 1.7. From then on, it will always use 'multinomial'. Leave it to its default value to avoid this warning.\n",
      "  warnings.warn(\n"
     ]
    },
    {
     "data": {
      "text/plain": [
       "{'rbm__n_components': 5, 'rbm__n_iter': 5}"
      ]
     },
     "execution_count": 20,
     "metadata": {},
     "output_type": "execute_result"
    }
   ],
   "source": [
    "param_grid= [{'rbm__n_components':[5,50,100,150],\n",
    "              'rbm__n_iter':[5,20]}]\n",
    "\n",
    "grid_search= GridSearchCV(rbm_features_classifier,param_grid,cv=2)\n",
    "\n",
    "grid_search.fit(x_train,y_train)\n",
    "\n",
    "grid_search.best_params_"
   ]
  },
  {
   "cell_type": "code",
   "execution_count": 21,
   "metadata": {},
   "outputs": [
    {
     "name": "stdout",
     "output_type": "stream",
     "text": [
      "Parameters :  {'rbm__n_components': 5, 'rbm__n_iter': 5}\n",
      "Mean Test Score :  0.11353571428571428\n",
      "Rank : : 1\n",
      "Parameters :  {'rbm__n_components': 5, 'rbm__n_iter': 20}\n",
      "Mean Test Score :  0.11353571428571428\n",
      "Rank : : 1\n",
      "Parameters :  {'rbm__n_components': 50, 'rbm__n_iter': 5}\n",
      "Mean Test Score :  0.11353571428571428\n",
      "Rank : : 1\n",
      "Parameters :  {'rbm__n_components': 50, 'rbm__n_iter': 20}\n",
      "Mean Test Score :  0.11353571428571428\n",
      "Rank : : 1\n",
      "Parameters :  {'rbm__n_components': 100, 'rbm__n_iter': 5}\n",
      "Mean Test Score :  0.11353571428571428\n",
      "Rank : : 1\n",
      "Parameters :  {'rbm__n_components': 100, 'rbm__n_iter': 20}\n",
      "Mean Test Score :  0.11353571428571428\n",
      "Rank : : 1\n",
      "Parameters :  {'rbm__n_components': 150, 'rbm__n_iter': 5}\n",
      "Mean Test Score :  0.11353571428571428\n",
      "Rank : : 1\n",
      "Parameters :  {'rbm__n_components': 150, 'rbm__n_iter': 20}\n",
      "Mean Test Score :  0.11353571428571428\n",
      "Rank : : 1\n"
     ]
    }
   ],
   "source": [
    "for i in range(8):\n",
    "    print('Parameters : ', grid_search.cv_results_['params'][i])\n",
    "\n",
    "    print('Mean Test Score : ', grid_search.cv_results_['mean_test_score'][i])\n",
    "\n",
    "    print('Rank : :' , grid_search.cv_results_['rank_test_score'][i])"
   ]
  }
 ],
 "metadata": {
  "kernelspec": {
   "display_name": ".venv",
   "language": "python",
   "name": "python3"
  },
  "language_info": {
   "codemirror_mode": {
    "name": "ipython",
    "version": 3
   },
   "file_extension": ".py",
   "mimetype": "text/x-python",
   "name": "python",
   "nbconvert_exporter": "python",
   "pygments_lexer": "ipython3",
   "version": "3.13.0"
  }
 },
 "nbformat": 4,
 "nbformat_minor": 2
}
